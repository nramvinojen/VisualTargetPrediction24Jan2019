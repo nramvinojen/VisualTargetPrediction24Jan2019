{
 "cells": [
  {
   "cell_type": "code",
   "execution_count": 1,
   "metadata": {},
   "outputs": [],
   "source": [
    "import pathlib"
   ]
  },
  {
   "cell_type": "code",
   "execution_count": 2,
   "metadata": {},
   "outputs": [],
   "source": [
    "FilePath = \"/home/nramvinojen/Programs/Workbench/24Jan2019/\"\n",
    "#RunFolder = \"Default\"\n",
    "RunFolder = \"03Feb2019\""
   ]
  },
  {
   "cell_type": "code",
   "execution_count": 25,
   "metadata": {},
   "outputs": [],
   "source": [
    "#Root Folder\n",
    "pathlib.Path(FilePath + \"Runs/\" + RunFolder ).mkdir(parents=True, exist_ok=True)"
   ]
  },
  {
   "cell_type": "code",
   "execution_count": 28,
   "metadata": {},
   "outputs": [],
   "source": [
    "#Frames_Resized\n",
    "pathlib.Path(FilePath + \"Runs/\" + RunFolder + \"/Frames_Resized\").mkdir(parents=True, exist_ok=True)"
   ]
  },
  {
   "cell_type": "code",
   "execution_count": null,
   "metadata": {},
   "outputs": [],
   "source": [
    "#Target_Frames_Resized\n",
    "pathlib.Path(FilePath + \"Runs/\" + RunFolder + \"/Target_Frames_Resized\").mkdir(parents=True, exist_ok=True)"
   ]
  },
  {
   "cell_type": "code",
   "execution_count": 29,
   "metadata": {},
   "outputs": [],
   "source": [
    "#FV2048_Resnet\n",
    "pathlib.Path(FilePath + \"Runs/\" + RunFolder + \"/FV2048_Resnet\").mkdir(parents=True, exist_ok=True)\n",
    "\n",
    "#Sub Folders\n",
    "pathlib.Path(FilePath + \"Runs/\" + RunFolder + \"/FV2048_Resnet/Fixation_Original\").mkdir(parents=True, exist_ok=True)\n",
    "pathlib.Path(FilePath + \"Runs/\" + RunFolder + \"/FV2048_Resnet/Fixation_WeightedSum_Combined_Csv\").mkdir(parents=True, exist_ok=True)\n",
    "pathlib.Path(FilePath + \"Runs/\" + RunFolder + \"/FV2048_Resnet/Fixation_WeightNormalized\").mkdir(parents=True, exist_ok=True)\n",
    "pathlib.Path(FilePath + \"Runs/\" + RunFolder + \"/FV2048_Resnet/Target_Combined_Csv\").mkdir(parents=True, exist_ok=True)\n"
   ]
  },
  {
   "cell_type": "code",
   "execution_count": 3,
   "metadata": {},
   "outputs": [],
   "source": [
    "#FV100_fromResnet\n",
    "pathlib.Path(FilePath + \"Runs/\" + RunFolder + \"/FV100_fromResnet\").mkdir(parents=True, exist_ok=True)\n",
    "\n",
    "#Sub Folders\n",
    "pathlib.Path(FilePath + \"Runs/\" + RunFolder + \"/FV100_fromResnet/Fixation_WeightedSum_Combined_Csv\").mkdir(parents=True, exist_ok=True)\n",
    "pathlib.Path(FilePath + \"Runs/\" + RunFolder + \"/FV100_fromResnet/Fixation_WeightNormalized\").mkdir(parents=True, exist_ok=True)\n",
    "pathlib.Path(FilePath + \"Runs/\" + RunFolder + \"/FV100_fromResnet/Target_Combined_Csv\").mkdir(parents=True, exist_ok=True)"
   ]
  },
  {
   "cell_type": "code",
   "execution_count": 6,
   "metadata": {},
   "outputs": [],
   "source": [
    "#FV48_fromResnet\n",
    "pathlib.Path(FilePath + \"Runs/\" + RunFolder + \"/FV48_fromResnet\").mkdir(parents=True, exist_ok=True)\n",
    "\n",
    "#Sub Folders\n",
    "pathlib.Path(FilePath + \"Runs/\" + RunFolder + \"/FV48_fromResnet/Fixation_WeightedSum_Combined_Csv\").mkdir(parents=True, exist_ok=True)\n",
    "pathlib.Path(FilePath + \"Runs/\" + RunFolder + \"/FV48_fromResnet/Fixation_WeightNormalized\").mkdir(parents=True, exist_ok=True)\n",
    "pathlib.Path(FilePath + \"Runs/\" + RunFolder + \"/FV48_fromResnet/Target_Combined_Csv\").mkdir(parents=True, exist_ok=True)"
   ]
  },
  {
   "cell_type": "code",
   "execution_count": 3,
   "metadata": {},
   "outputs": [],
   "source": [
    "#FV2048_Resnet\n",
    "pathlib.Path(FilePath + \"Runs/\" + RunFolder + \"/FV100_CNN\").mkdir(parents=True, exist_ok=True)\n",
    "\n",
    "#Sub Folders\n",
    "pathlib.Path(FilePath + \"Runs/\" + RunFolder + \"/FV100_CNN/Fixation_Original\").mkdir(parents=True, exist_ok=True)\n",
    "pathlib.Path(FilePath + \"Runs/\" + RunFolder + \"/FV100_CNN/Fixation_WeightedSum_Combined_Csv\").mkdir(parents=True, exist_ok=True)\n",
    "pathlib.Path(FilePath + \"Runs/\" + RunFolder + \"/FV100_CNN/Fixation_WeightNormalized\").mkdir(parents=True, exist_ok=True)\n",
    "pathlib.Path(FilePath + \"Runs/\" + RunFolder + \"/FV100_CNN/Target_Combined_Csv\").mkdir(parents=True, exist_ok=True)"
   ]
  },
  {
   "cell_type": "code",
   "execution_count": null,
   "metadata": {},
   "outputs": [],
   "source": []
  }
 ],
 "metadata": {
  "kernelspec": {
   "display_name": "Python 3",
   "language": "python",
   "name": "python3"
  },
  "language_info": {
   "codemirror_mode": {
    "name": "ipython",
    "version": 3
   },
   "file_extension": ".py",
   "mimetype": "text/x-python",
   "name": "python",
   "nbconvert_exporter": "python",
   "pygments_lexer": "ipython3",
   "version": "3.6.7"
  }
 },
 "nbformat": 4,
 "nbformat_minor": 2
}
