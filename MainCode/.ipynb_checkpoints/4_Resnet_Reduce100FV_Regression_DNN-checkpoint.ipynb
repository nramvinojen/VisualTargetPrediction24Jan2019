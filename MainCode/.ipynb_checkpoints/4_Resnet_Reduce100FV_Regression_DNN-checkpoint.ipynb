{
 "cells": [
  {
   "cell_type": "code",
   "execution_count": 3,
   "metadata": {},
   "outputs": [],
   "source": [
    "CodePath = \"/home/nramvinojen/Programs/Workbench/24Jan2019/\"\n",
    "FV_count = 48\n",
    "RunFolder = \"28Jan2019\""
   ]
  },
  {
   "cell_type": "code",
   "execution_count": null,
   "metadata": {},
   "outputs": [],
   "source": [
    "#%run \"/home/nramvinojen/Programs/Workbench/24Jan2019/SecondCode/MakeFolderStructure.ipynb\""
   ]
  },
  {
   "cell_type": "code",
   "execution_count": null,
   "metadata": {},
   "outputs": [],
   "source": [
    "FramesFolder = \"Frames_LoG1\"\n",
    "width = 224\n",
    "height = 224\n",
    "#%run \"/home/nramvinojen/Programs/Workbench/24Jan2019/PrimeCode/ResizeFrames.ipynb\""
   ]
  },
  {
   "cell_type": "code",
   "execution_count": null,
   "metadata": {},
   "outputs": [],
   "source": [
    "#%run \"/home/nramvinojen/Programs/Workbench/24Jan2019/PrimeCode/ResnetFV2048.ipynb\""
   ]
  },
  {
   "cell_type": "code",
   "execution_count": null,
   "metadata": {},
   "outputs": [],
   "source": [
    "#%run \"/home/nramvinojen/Programs/Workbench/24Jan2019/PrimeCode/ReduceFV_2048toNewFVlen.ipynb"
   ]
  },
  {
   "cell_type": "code",
   "execution_count": null,
   "metadata": {},
   "outputs": [],
   "source": [
    "#%run \"/home/nramvinojen/Programs/Workbench/24Jan2019/PrimeCode/Regression.ipynb\""
   ]
  },
  {
   "cell_type": "code",
   "execution_count": 4,
   "metadata": {},
   "outputs": [
    {
     "name": "stderr",
     "output_type": "stream",
     "text": [
      "Using TensorFlow backend.\n"
     ]
    },
    {
     "name": "stdout",
     "output_type": "stream",
     "text": [
      "Loaded model from disk\n",
      "Predicted Labels\n",
      "6 3 4 2 3 2 2 6 2 6 3 4 4 4 3 2 3 4 2 4 6 2 4 4 2 2 3 4 4 2 5 4 4 4 3 6 3 3 3 4 4 4 5 3 4 3 3 3 6 6 4 3 2 3 6 4 4 3 4 6 6 6 3 3 4 3 2 5 3 6 4 3 Actual Labels\n",
      "0 0 0 0 0 0 0 0 0 1 1 1 1 1 1 1 1 1 2 2 2 2 2 2 2 2 2 3 3 3 3 3 3 3 3 3 4 4 4 4 4 4 4 4 4 5 5 5 5 5 5 5 5 5 6 6 6 6 6 6 6 6 6 7 7 7 7 7 7 7 7 7 \n",
      "[[0 0 4 2 1 0 2 0]\n",
      " [0 0 1 3 4 0 1 0]\n",
      " [0 0 4 1 3 0 1 0]\n",
      " [0 0 1 1 5 1 1 0]\n",
      " [0 0 0 4 4 1 0 0]\n",
      " [0 0 1 5 1 0 2 0]\n",
      " [0 0 0 2 3 0 4 0]\n",
      " [0 0 1 4 2 1 1 0]]\n"
     ]
    },
    {
     "data": {
      "image/png": "[encoded data removed]",
      "text/plain": [
       "<Figure size 432x288 with 2 Axes>"
      ]
     },
     "metadata": {},
     "output_type": "display_data"
    },
    {
     "name": "stdout",
     "output_type": "stream",
     "text": [
      "\n",
      " Summary for each class:\n",
      "             precision    recall  f1-score   support\n",
      "\n",
      "          0       0.00      0.00      0.00         9\n",
      "          1       0.00      0.00      0.00         9\n",
      "          2       0.33      0.44      0.38         9\n",
      "          3       0.05      0.11      0.06         9\n",
      "          4       0.17      0.44      0.25         9\n",
      "          5       0.00      0.00      0.00         9\n",
      "          6       0.33      0.44      0.38         9\n",
      "          7       0.00      0.00      0.00         9\n",
      "\n",
      "avg / total       0.11      0.18      0.13        72\n",
      "\n"
     ]
    },
    {
     "name": "stderr",
     "output_type": "stream",
     "text": [
      "/usr/local/lib/python3.6/dist-packages/sklearn/metrics/classification.py:1135: UndefinedMetricWarning: Precision and F-score are ill-defined and being set to 0.0 in labels with no predicted samples.\n",
      "  'precision', 'predicted', average, warn_for)\n"
     ]
    }
   ],
   "source": [
    "%run \"/home/nramvinojen/Programs/Workbench/24Jan2019/PrimeCode/Classifier_DNN_Resnet100FV_8Class.ipynb\""
   ]
  },
  {
   "cell_type": "code",
   "execution_count": 5,
   "metadata": {},
   "outputs": [
    {
     "name": "stdout",
     "output_type": "stream",
     "text": [
      "\n",
      "[[ 9 14  4]\n",
      " [ 2 22  3]\n",
      " [ 1 12  5]]\n"
     ]
    },
    {
     "data": {
      "image/png": "[encoded data removed]",
      "text/plain": [
       "<Figure size 432x288 with 2 Axes>"
      ]
     },
     "metadata": {},
     "output_type": "display_data"
    },
    {
     "name": "stdout",
     "output_type": "stream",
     "text": [
      "\n",
      " Summary for each class:\n",
      "             precision    recall  f1-score   support\n",
      "\n",
      "          0       0.75      0.33      0.46        27\n",
      "          1       0.46      0.81      0.59        27\n",
      "          2       0.42      0.28      0.33        18\n",
      "\n",
      "avg / total       0.56      0.50      0.48        72\n",
      "\n"
     ]
    }
   ],
   "source": [
    "%run \"/home/nramvinojen/Programs/Workbench/24Jan2019/PrimeCode/Result_8to3Class.ipynb\""
   ]
  },
  {
   "cell_type": "code",
   "execution_count": null,
   "metadata": {},
   "outputs": [],
   "source": []
  }
 ],
 "metadata": {
  "kernelspec": {
   "display_name": "Python 3",
   "language": "python",
   "name": "python3"
  },
  "language_info": {
   "codemirror_mode": {
    "name": "ipython",
    "version": 3
   },
   "file_extension": ".py",
   "mimetype": "text/x-python",
   "name": "python",
   "nbconvert_exporter": "python",
   "pygments_lexer": "ipython3",
   "version": "3.6.7"
  }
 },
 "nbformat": 4,
 "nbformat_minor": 2
}
