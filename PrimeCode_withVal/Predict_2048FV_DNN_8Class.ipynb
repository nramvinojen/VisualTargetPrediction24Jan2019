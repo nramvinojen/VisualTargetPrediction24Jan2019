{
 "cells": [
  {
   "cell_type": "code",
   "execution_count": 1,
   "metadata": {},
   "outputs": [
    {
     "name": "stderr",
     "output_type": "stream",
     "text": [
      "/usr/local/lib/python3.6/dist-packages/h5py/__init__.py:36: FutureWarning: Conversion of the second argument of issubdtype from `float` to `np.floating` is deprecated. In future, it will be treated as `np.float64 == np.dtype(float).type`.\n",
      "  from ._conv import register_converters as _register_converters\n"
     ]
    }
   ],
   "source": [
    "import tensorflow as tf\n",
    "import pandas as pd\n",
    "\n",
    "import array \n",
    "import sklearn\n",
    "from sklearn.metrics import confusion_matrix\n",
    "import pylab as pl\n",
    "import matplotlib.pyplot as plt\n",
    "\n",
    "FilePath = \"/home/nramvinojen/Programs/Workbench/24Jan2019/\"\n",
    "ext = \".jpg\"\n",
    "\n",
    "#RunFolder = \"28Jan2019\"\n",
    "#FV_count = 2048"
   ]
  },
  {
   "cell_type": "code",
   "execution_count": null,
   "metadata": {},
   "outputs": [],
   "source": [
    "print(\"FV len :\" + str(FV_count))\n",
    "print(\"Folder :\" + RunFolder )"
   ]
  },
  {
   "cell_type": "code",
   "execution_count": 2,
   "metadata": {},
   "outputs": [],
   "source": [
    "# If GPU is available: \n",
    "config = tf.ConfigProto()\n",
    "config.log_device_placement = True\n",
    "config.allow_soft_placement = True\n",
    "config.gpu_options.allocator_type = 'BFC'\n",
    "\n",
    "# Limit the maximum memory used\n",
    "config.gpu_options.per_process_gpu_memory_fraction = 0.1\n",
    "\n",
    "# set session config\n",
    "tf.keras.backend.set_session(tf.Session(config=config))"
   ]
  },
  {
   "cell_type": "code",
   "execution_count": 5,
   "metadata": {},
   "outputs": [
    {
     "name": "stdout",
     "output_type": "stream",
     "text": [
      "Loaded model from disk\n"
     ]
    }
   ],
   "source": [
    "# load json and create model\n",
    "from keras.models import model_from_json\n",
    "json_file = open(FilePath  + \"Runs/\" + RunFolder + \"/ModelsAndWeights/Predict_DNN_Resnet2048FV_8Class_Te45_Tr47.json\", 'r')\n",
    "loaded_model_json = json_file.read()\n",
    "json_file.close()\n",
    "loaded_model = model_from_json(loaded_model_json)\n",
    "# load weights into new model\n",
    "loaded_model.load_weights(FilePath + \"Runs/\" + RunFolder + \"/ModelsAndWeights/Predict_DNN_Resnet2048FV_8Class_Te45_Tr47.h5\")\n",
    "print(\"Loaded model from disk\")\n",
    "loaded_model.summary()"
   ]
  },
  {
   "cell_type": "code",
   "execution_count": 7,
   "metadata": {},
   "outputs": [
    {
     "data": {
      "text/plain": [
       "(72, 2048)"
      ]
     },
     "execution_count": 7,
     "metadata": {},
     "output_type": "execute_result"
    }
   ],
   "source": [
    "# load dataset\n",
    "dataframe = pd.read_csv(FilePath +\"Runs/\" + RunFolder + \"/FV2048_Resnet/Fixation_WeightedSum_Combined_Csv/Test_CombinedFixation_FeatureVector.csv\", header=None)\n",
    "X_test = dataframe.values\n",
    "# load dataset\n",
    "dataframe = pd.read_csv(FilePath +\"Runs/\" + RunFolder + \"/FV2048_Resnet/Test_Label.csv\", header=None)\n",
    "Y_testtemp = dataframe.values\n",
    "Y_test = Y_testtemp[:,0]\n",
    "X_test.shape"
   ]
  },
  {
   "cell_type": "code",
   "execution_count": 8,
   "metadata": {},
   "outputs": [],
   "source": [
    "predictions = loaded_model.predict(X_test)"
   ]
  },
  {
   "cell_type": "code",
   "execution_count": 20,
   "metadata": {},
   "outputs": [],
   "source": [
    "#print(\"Predicted Labels\")\n",
    "y_pred = [0] * len(Y_test)\n",
    "for i in range (len(Y_test)):\n",
    "    a=list(predictions[i])\n",
    "    y_pred[i]= a.index(max(a))\n",
    "   #print(a.index(max(a)),end=\" \")"
   ]
  },
  {
   "cell_type": "code",
   "execution_count": 21,
   "metadata": {},
   "outputs": [],
   "source": [
    "#print(\"Actual Labels\")\n",
    "#for i in range (len(Y_test)):\n",
    "   # print(int(Y_test[i]),end=\" \")"
   ]
  },
  {
   "cell_type": "code",
   "execution_count": 22,
   "metadata": {},
   "outputs": [
    {
     "name": "stdout",
     "output_type": "stream",
     "text": [
      "\n",
      "[[4 1 1 0 0 2 0 1]\n",
      " [3 2 2 0 0 0 1 1]\n",
      " [1 0 3 2 1 1 1 0]\n",
      " [0 1 1 5 0 1 0 1]\n",
      " [0 0 0 1 6 1 0 1]\n",
      " [1 0 1 0 2 3 0 2]\n",
      " [1 1 1 0 0 0 6 0]\n",
      " [0 1 1 2 1 0 0 4]]\n"
     ]
    }
   ],
   "source": [
    "cm = confusion_matrix(Y_test, y_pred)\n",
    "print(\"\")\n",
    "print(cm)"
   ]
  },
  {
   "cell_type": "code",
   "execution_count": 23,
   "metadata": {},
   "outputs": [
    {
     "data": {
      "image/png": "[encoded data removed]",
      "text/plain": [
       "<Figure size 432x288 with 2 Axes>"
      ]
     },
     "metadata": {},
     "output_type": "display_data"
    }
   ],
   "source": [
    "labels = [' 0', ' 1', ' 2', ' 3', ' 4', ' 5',' 6', ' 7']\n",
    "fig = plt.figure()\n",
    "ax = fig.add_subplot(111)\n",
    "cax = ax.matshow(cm)\n",
    "plt.title('Confusion matrix of the Prediction')\n",
    "fig.colorbar(cax)\n",
    "ax.set_xticklabels([''] + labels)\n",
    "ax.set_yticklabels( [''] + labels)\n",
    "plt.xlabel('Predicted')\n",
    "plt.ylabel('True')\n",
    "plt.show()"
   ]
  },
  {
   "cell_type": "code",
   "execution_count": 25,
   "metadata": {},
   "outputs": [
    {
     "name": "stdout",
     "output_type": "stream",
     "text": [
      "\n",
      " Summary for each class:\n",
      "             precision    recall  f1-score   support\n",
      "\n",
      "          0       0.40      0.44      0.42         9\n",
      "          1       0.33      0.22      0.27         9\n",
      "          2       0.30      0.33      0.32         9\n",
      "          3       0.50      0.56      0.53         9\n",
      "          4       0.60      0.67      0.63         9\n",
      "          5       0.38      0.33      0.35         9\n",
      "          6       0.75      0.67      0.71         9\n",
      "          7       0.40      0.44      0.42         9\n",
      "\n",
      "avg / total       0.46      0.46      0.46        72\n",
      "\n"
     ]
    }
   ],
   "source": [
    "print ('\\n Summary for each class:')\n",
    "print (sklearn.metrics.classification_report(Y_test, y_pred))"
   ]
  },
  {
   "cell_type": "code",
   "execution_count": null,
   "metadata": {},
   "outputs": [],
   "source": []
  }
 ],
 "metadata": {
  "kernelspec": {
   "display_name": "Python 3",
   "language": "python",
   "name": "python3"
  },
  "language_info": {
   "codemirror_mode": {
    "name": "ipython",
    "version": 3
   },
   "file_extension": ".py",
   "mimetype": "text/x-python",
   "name": "python",
   "nbconvert_exporter": "python",
   "pygments_lexer": "ipython3",
   "version": "3.6.7"
  }
 },
 "nbformat": 4,
 "nbformat_minor": 2
}
