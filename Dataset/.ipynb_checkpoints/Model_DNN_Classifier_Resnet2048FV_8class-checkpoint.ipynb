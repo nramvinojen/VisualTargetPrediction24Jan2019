{
 "cells": [
  {
   "cell_type": "code",
   "execution_count": 1,
   "metadata": {},
   "outputs": [
    {
     "name": "stderr",
     "output_type": "stream",
     "text": [
      "/usr/local/lib/python3.6/dist-packages/h5py/__init__.py:36: FutureWarning: Conversion of the second argument of issubdtype from `float` to `np.floating` is deprecated. In future, it will be treated as `np.float64 == np.dtype(float).type`.\n",
      "  from ._conv import register_converters as _register_converters\n",
      "Using TensorFlow backend.\n"
     ]
    }
   ],
   "source": [
    "import numpy as np\n",
    "import pandas\n",
    "import tensorflow as tf\n",
    "from keras.models import Sequential\n",
    "from keras.layers import Dense\n",
    "from keras.wrappers.scikit_learn import KerasClassifier\n",
    "from keras.utils import np_utils\n",
    "from sklearn.model_selection import cross_val_score\n",
    "from sklearn.model_selection import KFold\n",
    "from sklearn.preprocessing import LabelEncoder\n",
    "from sklearn.pipeline import Pipeline\n",
    "from keras.layers.normalization import BatchNormalization\n",
    "import matplotlib.pyplot as plt"
   ]
  },
  {
   "cell_type": "code",
   "execution_count": 10,
   "metadata": {},
   "outputs": [],
   "source": [
    "FilePath = \"/home/nramvinojen/Programs/Workbench/24Jan2019/\"\n",
    "ext = \".jpg\"\n",
    "\n",
    "RunFolder = \"28Jan2019\"\n",
    "FV_count = 2048"
   ]
  },
  {
   "cell_type": "code",
   "execution_count": 4,
   "metadata": {},
   "outputs": [],
   "source": [
    "# If GPU is available: \n",
    "config = tf.ConfigProto()\n",
    "config.log_device_placement = True\n",
    "config.allow_soft_placement = True\n",
    "config.gpu_options.allocator_type = 'BFC'\n",
    "\n",
    "# Limit the maximum memory used\n",
    "config.gpu_options.per_process_gpu_memory_fraction = 0.1\n",
    "\n",
    "# set session config\n",
    "tf.keras.backend.set_session(tf.Session(config=config))"
   ]
  },
  {
   "cell_type": "code",
   "execution_count": 5,
   "metadata": {},
   "outputs": [],
   "source": [
    "# fix random seed for reproducibility\n",
    "seed = 7\n",
    "np.random.seed(seed)\n",
    "Class = 8"
   ]
  },
  {
   "cell_type": "code",
   "execution_count": 6,
   "metadata": {},
   "outputs": [],
   "source": [
    "# load dataset\n",
    "dataframe = pandas.read_csv(FilePath + \"Dataset/Classifier/NN/TR_2370Img_ResnetFV2048_8Class.csv\", header=None)\n",
    "dataset = dataframe.values\n",
    "X = dataset[:,0:2048].astype(float)\n",
    "Y = dataset[:,2048]"
   ]
  },
  {
   "cell_type": "code",
   "execution_count": 7,
   "metadata": {},
   "outputs": [
    {
     "data": {
      "text/plain": [
       "(2370, 2048)"
      ]
     },
     "execution_count": 7,
     "metadata": {},
     "output_type": "execute_result"
    }
   ],
   "source": [
    "# encode class values as integers\n",
    "encoder = LabelEncoder()\n",
    "encoder.fit(Y)\n",
    "encoded_Y = encoder.transform(Y)\n",
    "y_train_one_hot = tf.keras.utils.to_categorical(Y, Class)\n",
    "X.shape"
   ]
  },
  {
   "cell_type": "code",
   "execution_count": 11,
   "metadata": {},
   "outputs": [],
   "source": [
    "# load dataset\n",
    "dataframe = pandas.read_csv(FilePath + \"Dataset/Classifier/NN/Test_41Img_ResnetFV2018_8Class.csv\", header=None)\n",
    "dataset = dataframe.values\n",
    "X_test = dataset[:,0:2048].astype(float)\n",
    "Y_test = dataset[:,2048]"
   ]
  },
  {
   "cell_type": "code",
   "execution_count": 12,
   "metadata": {},
   "outputs": [
    {
     "data": {
      "text/plain": [
       "(41, 2048)"
      ]
     },
     "execution_count": 12,
     "metadata": {},
     "output_type": "execute_result"
    }
   ],
   "source": [
    "# encode class values as integers\n",
    "encoder = LabelEncoder()\n",
    "encoder.fit(Y_test)\n",
    "encoded_Ytest = encoder.transform(Y)\n",
    "y_test_one_hot = tf.keras.utils.to_categorical(Y_test, Class)\n",
    "X_test.shape"
   ]
  },
  {
   "cell_type": "code",
   "execution_count": 13,
   "metadata": {},
   "outputs": [
    {
     "data": {
      "text/plain": [
       "(array([ 22., 171., 467., 641., 602., 343., 106.,  13.,   4.,   1.]),\n",
       " array([2.62548473, 2.94239666, 3.25930859, 3.57622052, 3.89313245,\n",
       "        4.21004438, 4.52695632, 4.84386825, 5.16078018, 5.47769211,\n",
       "        5.79460404]),\n",
       " <a list of 10 Patch objects>)"
      ]
     },
     "execution_count": 13,
     "metadata": {},
     "output_type": "execute_result"
    },
    {
     "data": {
      "image/png": "[encoded data removed]",
      "text/plain": [
       "<Figure size 432x288 with 1 Axes>"
      ]
     },
     "metadata": {},
     "output_type": "display_data"
    }
   ],
   "source": [
    "plt.hist(np.mean(X, axis=1))"
   ]
  },
  {
   "cell_type": "code",
   "execution_count": 21,
   "metadata": {
    "scrolled": false
   },
   "outputs": [
    {
     "name": "stdout",
     "output_type": "stream",
     "text": [
      "_________________________________________________________________\n",
      "Layer (type)                 Output Shape              Param #   \n",
      "=================================================================\n",
      "dense_10 (Dense)             (None, 92)                188508    \n",
      "_________________________________________________________________\n",
      "dropout_7 (Dropout)          (None, 92)                0         \n",
      "_________________________________________________________________\n",
      "dense_11 (Dense)             (None, 48)                4464      \n",
      "_________________________________________________________________\n",
      "dropout_8 (Dropout)          (None, 48)                0         \n",
      "_________________________________________________________________\n",
      "dense_12 (Dense)             (None, 8)                 392       \n",
      "=================================================================\n",
      "Total params: 193,364\n",
      "Trainable params: 193,364\n",
      "Non-trainable params: 0\n",
      "_________________________________________________________________\n",
      "Train on 2370 samples, validate on 41 samples\n",
      "Epoch 1/100\n",
      "2370/2370 [==============================]2370/2370 [==============================] - 1s 507us/step - loss: 3.0889 - acc: 0.2139 - val_loss: 1.8611 - val_acc: 0.3415\n",
      "\n",
      "Epoch 2/100\n",
      "2370/2370 [==============================]2370/2370 [==============================] - 0s 194us/step - loss: 1.8011 - acc: 0.3173 - val_loss: 1.6338 - val_acc: 0.3659\n",
      "\n",
      "Epoch 3/100\n",
      "2370/2370 [==============================]2370/2370 [==============================] - 1s 241us/step - loss: 1.5769 - acc: 0.3970 - val_loss: 1.5377 - val_acc: 0.3902\n",
      "\n",
      "Epoch 4/100\n",
      "2370/2370 [==============================]2370/2370 [==============================] - 1s 213us/step - loss: 1.4448 - acc: 0.4515 - val_loss: 1.5064 - val_acc: 0.4634\n",
      "\n",
      "Epoch 5/100\n",
      "2370/2370 [==============================]2370/2370 [==============================] - 0s 186us/step - loss: 1.3210 - acc: 0.5025 - val_loss: 1.3469 - val_acc: 0.6098\n",
      "\n",
      "Epoch 6/100\n",
      "2370/2370 [==============================]2370/2370 [==============================] - 1s 229us/step - loss: 1.2549 - acc: 0.5451 - val_loss: 1.3384 - val_acc: 0.5854\n",
      "\n",
      "Epoch 7/100\n",
      "2370/2370 [==============================]2370/2370 [==============================] - 0s 207us/step - loss: 1.1223 - acc: 0.5983 - val_loss: 1.1665 - val_acc: 0.6585\n",
      "\n",
      "Epoch 8/100\n",
      "2370/2370 [==============================]2370/2370 [==============================] - 0s 200us/step - loss: 1.0807 - acc: 0.6059 - val_loss: 1.1531 - val_acc: 0.6341\n",
      "\n",
      "Epoch 9/100\n",
      "2370/2370 [==============================]2370/2370 [==============================] - 1s 218us/step - loss: 0.9981 - acc: 0.6460 - val_loss: 1.0248 - val_acc: 0.7317\n",
      "\n",
      "Epoch 10/100\n",
      "2370/2370 [==============================]2370/2370 [==============================] - 1s 219us/step - loss: 0.9252 - acc: 0.6717 - val_loss: 1.0331 - val_acc: 0.6829\n",
      "\n",
      "Epoch 11/100\n",
      "2370/2370 [==============================]2370/2370 [==============================] - 1s 212us/step - loss: 0.8566 - acc: 0.7059 - val_loss: 0.9290 - val_acc: 0.7317\n",
      "\n",
      "Epoch 12/100\n",
      "2370/2370 [==============================]2370/2370 [==============================] - 1s 211us/step - loss: 0.8048 - acc: 0.7228 - val_loss: 0.8002 - val_acc: 0.8049\n",
      "\n",
      "Epoch 13/100\n",
      "2370/2370 [==============================]2370/2370 [==============================] - 1s 237us/step - loss: 0.7648 - acc: 0.7397 - val_loss: 0.7925 - val_acc: 0.8293\n",
      "\n",
      "Epoch 14/100\n",
      "2370/2370 [==============================]2370/2370 [==============================] - 0s 196us/step - loss: 0.7497 - acc: 0.7388 - val_loss: 0.9125 - val_acc: 0.7561\n",
      "\n",
      "Epoch 15/100\n",
      "2370/2370 [==============================]2370/2370 [==============================] - 0s 206us/step - loss: 0.7255 - acc: 0.7418 - val_loss: 0.7561 - val_acc: 0.7561\n",
      "\n",
      "Epoch 16/100\n",
      "2370/2370 [==============================]2370/2370 [==============================] - 1s 221us/step - loss: 0.6996 - acc: 0.7582 - val_loss: 0.6773 - val_acc: 0.8049\n",
      "\n",
      "Epoch 17/100\n",
      "2370/2370 [==============================]2370/2370 [==============================] - 0s 202us/step - loss: 0.6834 - acc: 0.7523 - val_loss: 0.6253 - val_acc: 0.8293\n",
      "\n",
      "Epoch 18/100\n",
      "2370/2370 [==============================]2370/2370 [==============================] - 0s 195us/step - loss: 0.6496 - acc: 0.7734 - val_loss: 0.6875 - val_acc: 0.8293\n",
      "\n",
      "Epoch 19/100\n",
      "2370/2370 [==============================]2370/2370 [==============================] - 1s 229us/step - loss: 0.6648 - acc: 0.7616 - val_loss: 0.6705 - val_acc: 0.8293\n",
      "\n",
      "Epoch 20/100\n",
      "2370/2370 [==============================]2370/2370 [==============================] - 0s 210us/step - loss: 0.6563 - acc: 0.7696 - val_loss: 0.6158 - val_acc: 0.8537\n",
      "\n",
      "Epoch 21/100\n",
      "2370/2370 [==============================]2370/2370 [==============================] - 0s 192us/step - loss: 0.6113 - acc: 0.7857 - val_loss: 0.5827 - val_acc: 0.9024\n",
      "\n",
      "Epoch 22/100\n",
      "2370/2370 [==============================]2370/2370 [==============================] - 1s 233us/step - loss: 0.6217 - acc: 0.7789 - val_loss: 0.7294 - val_acc: 0.7805\n",
      "\n",
      "Epoch 23/100\n",
      "2370/2370 [==============================]2370/2370 [==============================] - 0s 190us/step - loss: 0.6510 - acc: 0.7662 - val_loss: 0.7310 - val_acc: 0.7805\n",
      "\n",
      "Epoch 24/100\n",
      "2370/2370 [==============================]2370/2370 [==============================] - 0s 196us/step - loss: 0.6387 - acc: 0.7734 - val_loss: 0.5832 - val_acc: 0.8537\n",
      "\n",
      "Epoch 25/100\n",
      "2370/2370 [==============================]2370/2370 [==============================] - 1s 236us/step - loss: 0.6362 - acc: 0.7764 - val_loss: 0.6507 - val_acc: 0.8780\n",
      "\n",
      "Epoch 26/100\n",
      "2370/2370 [==============================]2370/2370 [==============================] - 0s 202us/step - loss: 0.5561 - acc: 0.7992 - val_loss: 0.6476 - val_acc: 0.8049\n",
      "\n",
      "Epoch 27/100\n",
      "2370/2370 [==============================]2370/2370 [==============================] - 0s 188us/step - loss: 0.5643 - acc: 0.8076 - val_loss: 0.5608 - val_acc: 0.9024\n",
      "\n",
      "Epoch 28/100\n",
      "2370/2370 [==============================]2370/2370 [==============================] - 1s 262us/step - loss: 0.5306 - acc: 0.8160 - val_loss: 0.5876 - val_acc: 0.8780\n",
      "\n",
      "Epoch 29/100\n",
      "2370/2370 [==============================]2370/2370 [==============================] - 0s 188us/step - loss: 0.5313 - acc: 0.8219 - val_loss: 0.5803 - val_acc: 0.9024\n",
      "\n",
      "Epoch 30/100\n",
      "2370/2370 [==============================]2370/2370 [==============================] - 0s 180us/step - loss: 0.5883 - acc: 0.7937 - val_loss: 0.7346 - val_acc: 0.8049\n",
      "\n",
      "Epoch 31/100\n",
      "2370/2370 [==============================]2370/2370 [==============================] - 1s 241us/step - loss: 0.5589 - acc: 0.8008 - val_loss: 0.5786 - val_acc: 0.8780\n",
      "\n",
      "Epoch 32/100\n",
      "2370/2370 [==============================]2370/2370 [==============================] - 1s 214us/step - loss: 0.5413 - acc: 0.8118 - val_loss: 0.7320 - val_acc: 0.8537\n",
      "\n",
      "Epoch 33/100\n",
      "2370/2370 [==============================]2370/2370 [==============================] - 1s 217us/step - loss: 0.5488 - acc: 0.8139 - val_loss: 0.5550 - val_acc: 0.9024\n",
      "\n",
      "Epoch 34/100\n",
      "2370/2370 [==============================]2370/2370 [==============================] - 1s 249us/step - loss: 0.4998 - acc: 0.8392 - val_loss: 0.5148 - val_acc: 0.9268\n",
      "\n",
      "Epoch 35/100\n",
      "2370/2370 [==============================]2370/2370 [==============================] - 0s 194us/step - loss: 0.5226 - acc: 0.8241 - val_loss: 0.5217 - val_acc: 0.9024\n",
      "\n",
      "Epoch 36/100\n",
      "2370/2370 [==============================]2370/2370 [==============================] - 0s 181us/step - loss: 0.5170 - acc: 0.8224 - val_loss: 0.4813 - val_acc: 0.9512\n",
      "\n",
      "Epoch 37/100\n",
      "2370/2370 [==============================]2370/2370 [==============================] - 1s 243us/step - loss: 0.4854 - acc: 0.8363 - val_loss: 0.4426 - val_acc: 0.9512\n",
      "\n",
      "Epoch 38/100\n",
      "2370/2370 [==============================]2370/2370 [==============================] - 0s 204us/step - loss: 0.5026 - acc: 0.8321 - val_loss: 0.6160 - val_acc: 0.9024\n",
      "\n",
      "Epoch 39/100\n",
      "2370/2370 [==============================]2370/2370 [==============================] - 0s 179us/step - loss: 0.5209 - acc: 0.8270 - val_loss: 0.4166 - val_acc: 0.9512\n",
      "\n",
      "Epoch 40/100\n"
     ]
    },
    {
     "name": "stdout",
     "output_type": "stream",
     "text": [
      "2370/2370 [==============================]2370/2370 [==============================] - 1s 251us/step - loss: 0.4910 - acc: 0.8405 - val_loss: 0.5542 - val_acc: 0.9024\n",
      "\n",
      "Epoch 41/100\n",
      "2370/2370 [==============================]2370/2370 [==============================] - 0s 192us/step - loss: 0.4961 - acc: 0.8300 - val_loss: 0.5471 - val_acc: 0.9024\n",
      "\n",
      "Epoch 42/100\n",
      "2370/2370 [==============================]2370/2370 [==============================] - 0s 177us/step - loss: 0.4669 - acc: 0.8498 - val_loss: 0.3450 - val_acc: 0.9512\n",
      "\n",
      "Epoch 43/100\n",
      "2370/2370 [==============================]2370/2370 [==============================] - 1s 237us/step - loss: 0.4301 - acc: 0.8574 - val_loss: 0.4724 - val_acc: 0.9512\n",
      "\n",
      "Epoch 44/100\n",
      "2370/2370 [==============================]2370/2370 [==============================] - 0s 203us/step - loss: 0.4786 - acc: 0.8430 - val_loss: 0.7052 - val_acc: 0.8537\n",
      "\n",
      "Epoch 45/100\n",
      "2370/2370 [==============================]2370/2370 [==============================] - 0s 180us/step - loss: 0.4805 - acc: 0.8422 - val_loss: 0.4972 - val_acc: 0.9268\n",
      "\n",
      "Epoch 46/100\n",
      "2370/2370 [==============================]2370/2370 [==============================] - 1s 241us/step - loss: 0.4740 - acc: 0.8435 - val_loss: 0.4923 - val_acc: 0.9512\n",
      "\n",
      "Epoch 47/100\n",
      "2370/2370 [==============================]2370/2370 [==============================] - 1s 219us/step - loss: 0.4770 - acc: 0.8447 - val_loss: 0.6505 - val_acc: 0.8780\n",
      "\n",
      "Epoch 48/100\n",
      "2370/2370 [==============================]2370/2370 [==============================] - 0s 197us/step - loss: 0.5109 - acc: 0.8219 - val_loss: 0.5940 - val_acc: 0.8537\n",
      "\n",
      "Epoch 49/100\n",
      "2370/2370 [==============================]2370/2370 [==============================] - 1s 252us/step - loss: 0.4921 - acc: 0.8367 - val_loss: 0.4996 - val_acc: 0.9512\n",
      "\n",
      "Epoch 50/100\n",
      "2370/2370 [==============================]2370/2370 [==============================] - 1s 229us/step - loss: 0.4791 - acc: 0.8380 - val_loss: 0.6226 - val_acc: 0.9024\n",
      "\n",
      "Epoch 51/100\n",
      "2370/2370 [==============================]2370/2370 [==============================] - 0s 188us/step - loss: 0.4701 - acc: 0.8401 - val_loss: 0.6136 - val_acc: 0.8780\n",
      "\n",
      "Epoch 52/100\n",
      "2370/2370 [==============================]2370/2370 [==============================] - 1s 217us/step - loss: 0.4546 - acc: 0.8502 - val_loss: 0.5882 - val_acc: 0.9512\n",
      "\n",
      "Epoch 53/100\n",
      "2370/2370 [==============================]2370/2370 [==============================] - 1s 213us/step - loss: 0.4493 - acc: 0.8489 - val_loss: 0.5072 - val_acc: 0.9268\n",
      "\n",
      "Epoch 54/100\n",
      "2370/2370 [==============================]2370/2370 [==============================] - 0s 197us/step - loss: 0.4393 - acc: 0.8578 - val_loss: 0.4915 - val_acc: 0.9512\n",
      "\n",
      "Epoch 55/100\n",
      "2370/2370 [==============================]2370/2370 [==============================] - 1s 221us/step - loss: 0.4641 - acc: 0.8464 - val_loss: 0.5040 - val_acc: 0.9512\n",
      "\n",
      "Epoch 56/100\n",
      "2370/2370 [==============================]2370/2370 [==============================] - 1s 222us/step - loss: 0.4825 - acc: 0.8342 - val_loss: 0.6173 - val_acc: 0.8780\n",
      "\n",
      "Epoch 57/100\n",
      "2370/2370 [==============================]2370/2370 [==============================] - 0s 187us/step - loss: 0.4458 - acc: 0.8511 - val_loss: 0.5701 - val_acc: 0.8780\n",
      "\n",
      "Epoch 58/100\n",
      "2370/2370 [==============================]2370/2370 [==============================] - 1s 212us/step - loss: 0.4238 - acc: 0.8624 - val_loss: 0.5815 - val_acc: 0.9512\n",
      "\n",
      "Epoch 59/100\n",
      "2370/2370 [==============================]2370/2370 [==============================] - 1s 236us/step - loss: 0.4452 - acc: 0.8540 - val_loss: 0.5823 - val_acc: 0.9512\n",
      "\n",
      "Epoch 60/100\n",
      "2370/2370 [==============================]2370/2370 [==============================] - 1s 211us/step - loss: 0.4418 - acc: 0.8536 - val_loss: 0.6040 - val_acc: 0.8780\n",
      "\n",
      "Epoch 61/100\n",
      "2370/2370 [==============================]2370/2370 [==============================] - 0s 182us/step - loss: 0.4435 - acc: 0.8527 - val_loss: 0.5381 - val_acc: 0.9268\n",
      "\n",
      "Epoch 62/100\n",
      "2370/2370 [==============================]2370/2370 [==============================] - 1s 242us/step - loss: 0.4154 - acc: 0.8667 - val_loss: 0.5257 - val_acc: 0.9512\n",
      "\n",
      "Epoch 63/100\n",
      "2370/2370 [==============================]2370/2370 [==============================] - 1s 221us/step - loss: 0.4492 - acc: 0.8561 - val_loss: 0.5287 - val_acc: 0.9512\n",
      "\n",
      "Epoch 64/100\n",
      "2370/2370 [==============================]2370/2370 [==============================] - 0s 188us/step - loss: 0.4027 - acc: 0.8734 - val_loss: 0.5108 - val_acc: 0.9512\n",
      "\n",
      "Epoch 65/100\n",
      "2370/2370 [==============================]2370/2370 [==============================] - 1s 242us/step - loss: 0.4295 - acc: 0.8612 - val_loss: 0.4614 - val_acc: 0.9512\n",
      "\n",
      "Epoch 66/100\n",
      "2370/2370 [==============================]2370/2370 [==============================] - 0s 201us/step - loss: 0.4199 - acc: 0.8599 - val_loss: 0.3780 - val_acc: 0.9512\n",
      "\n",
      "Epoch 67/100\n",
      "2370/2370 [==============================]2370/2370 [==============================] - 0s 202us/step - loss: 0.4291 - acc: 0.8557 - val_loss: 0.3590 - val_acc: 0.9512\n",
      "\n",
      "Epoch 68/100\n",
      "2370/2370 [==============================]2370/2370 [==============================] - 1s 245us/step - loss: 0.3963 - acc: 0.8730 - val_loss: 0.4870 - val_acc: 0.9512\n",
      "\n",
      "Epoch 69/100\n",
      "2370/2370 [==============================]2370/2370 [==============================] - 1s 223us/step - loss: 0.4093 - acc: 0.8650 - val_loss: 0.4413 - val_acc: 0.9268\n",
      "\n",
      "Epoch 70/100\n",
      "2370/2370 [==============================]2370/2370 [==============================] - 0s 190us/step - loss: 0.4023 - acc: 0.8730 - val_loss: 0.3968 - val_acc: 0.9268\n",
      "\n",
      "Epoch 71/100\n",
      "2370/2370 [==============================]2370/2370 [==============================] - 1s 224us/step - loss: 0.4218 - acc: 0.8641 - val_loss: 0.6785 - val_acc: 0.9024\n",
      "\n",
      "Epoch 72/100\n",
      "2370/2370 [==============================]2370/2370 [==============================] - 1s 215us/step - loss: 0.4062 - acc: 0.8734 - val_loss: 0.4707 - val_acc: 0.9024\n",
      "\n",
      "Epoch 73/100\n",
      "2370/2370 [==============================]2370/2370 [==============================] - 0s 185us/step - loss: 0.3873 - acc: 0.8747 - val_loss: 0.6325 - val_acc: 0.8780\n",
      "\n",
      "Epoch 74/100\n",
      "2370/2370 [==============================]2370/2370 [==============================] - 1s 218us/step - loss: 0.3915 - acc: 0.8789 - val_loss: 0.6112 - val_acc: 0.9268\n",
      "\n",
      "Epoch 75/100\n",
      "2370/2370 [==============================]2370/2370 [==============================] - 1s 226us/step - loss: 0.4720 - acc: 0.8515 - val_loss: 0.4943 - val_acc: 0.9024\n",
      "\n",
      "Epoch 76/100\n",
      "2370/2370 [==============================]2370/2370 [==============================] - 1s 216us/step - loss: 0.4175 - acc: 0.8734 - val_loss: 0.5314 - val_acc: 0.9268\n",
      "\n",
      "Epoch 77/100\n",
      "2370/2370 [==============================]2370/2370 [==============================] - 0s 195us/step - loss: 0.4297 - acc: 0.8637 - val_loss: 0.5156 - val_acc: 0.9512\n",
      "\n",
      "Epoch 78/100\n",
      "2370/2370 [==============================]2370/2370 [==============================] - 1s 227us/step - loss: 0.4201 - acc: 0.8700 - val_loss: 0.6520 - val_acc: 0.9268\n",
      "\n",
      "Epoch 79/100\n",
      "2370/2370 [==============================]2370/2370 [==============================] - 0s 202us/step - loss: 0.4154 - acc: 0.8650 - val_loss: 0.7275 - val_acc: 0.9024\n",
      "\n",
      "Epoch 80/100\n",
      "2370/2370 [==============================]2370/2370 [==============================] - 0s 189us/step - loss: 0.4586 - acc: 0.8481 - val_loss: 0.5282 - val_acc: 0.9268\n",
      "\n",
      "Epoch 81/100\n",
      "2370/2370 [==============================]2370/2370 [==============================] - 1s 239us/step - loss: 0.4056 - acc: 0.8700 - val_loss: 0.4268 - val_acc: 0.9512\n",
      "\n",
      "Epoch 82/100\n",
      "2370/2370 [==============================]2370/2370 [==============================] - 0s 190us/step - loss: 0.4174 - acc: 0.8637 - val_loss: 0.4300 - val_acc: 0.9268\n",
      "\n",
      "Epoch 83/100\n",
      "2370/2370 [==============================]2370/2370 [==============================] - 0s 197us/step - loss: 0.3892 - acc: 0.8755 - val_loss: 0.4453 - val_acc: 0.9268\n",
      "\n",
      "Epoch 84/100\n",
      "2370/2370 [==============================]2370/2370 [==============================] - 1s 232us/step - loss: 0.3919 - acc: 0.8785 - val_loss: 0.5344 - val_acc: 0.9024\n",
      "\n",
      "Epoch 85/100\n"
     ]
    },
    {
     "name": "stdout",
     "output_type": "stream",
     "text": [
      "2370/2370 [==============================]2370/2370 [==============================] - 0s 210us/step - loss: 0.4120 - acc: 0.8675 - val_loss: 0.6626 - val_acc: 0.9268\n",
      "\n",
      "Epoch 86/100\n",
      "2370/2370 [==============================]2370/2370 [==============================] - 0s 183us/step - loss: 0.3791 - acc: 0.8819 - val_loss: 0.6068 - val_acc: 0.9024\n",
      "\n",
      "Epoch 87/100\n",
      "2370/2370 [==============================]2370/2370 [==============================] - 1s 239us/step - loss: 0.4404 - acc: 0.8582 - val_loss: 0.4325 - val_acc: 0.9268\n",
      "\n",
      "Epoch 88/100\n",
      "2370/2370 [==============================]2370/2370 [==============================] - 1s 218us/step - loss: 0.5123 - acc: 0.8354 - val_loss: 0.5310 - val_acc: 0.9024\n",
      "\n",
      "Epoch 89/100\n",
      "2370/2370 [==============================]2370/2370 [==============================] - 0s 174us/step - loss: 0.5176 - acc: 0.8308 - val_loss: 0.5350 - val_acc: 0.9024\n",
      "\n",
      "Epoch 90/100\n",
      "2370/2370 [==============================]2370/2370 [==============================] - 1s 231us/step - loss: 0.5223 - acc: 0.8253 - val_loss: 0.5455 - val_acc: 0.9024\n",
      "\n",
      "Epoch 91/100\n",
      "2370/2370 [==============================]2370/2370 [==============================] - 0s 202us/step - loss: 0.5020 - acc: 0.8316 - val_loss: 0.4920 - val_acc: 0.9024\n",
      "\n",
      "Epoch 92/100\n",
      "2370/2370 [==============================]2370/2370 [==============================] - 0s 181us/step - loss: 0.4765 - acc: 0.8371 - val_loss: 0.4947 - val_acc: 0.9268\n",
      "\n",
      "Epoch 93/100\n",
      "2370/2370 [==============================]2370/2370 [==============================] - 1s 247us/step - loss: 0.4779 - acc: 0.8447 - val_loss: 0.4183 - val_acc: 0.9512\n",
      "\n",
      "Epoch 94/100\n",
      "2370/2370 [==============================]2370/2370 [==============================] - 0s 208us/step - loss: 0.4727 - acc: 0.8401 - val_loss: 0.5440 - val_acc: 0.8537\n",
      "\n",
      "Epoch 95/100\n",
      "2370/2370 [==============================]2370/2370 [==============================] - 0s 191us/step - loss: 0.5396 - acc: 0.8215 - val_loss: 0.5966 - val_acc: 0.9024\n",
      "\n",
      "Epoch 96/100\n",
      "2370/2370 [==============================]2370/2370 [==============================] - 1s 224us/step - loss: 0.5152 - acc: 0.8211 - val_loss: 0.5084 - val_acc: 0.8780\n",
      "\n",
      "Epoch 97/100\n",
      "2370/2370 [==============================]2370/2370 [==============================] - 1s 212us/step - loss: 0.4844 - acc: 0.8350 - val_loss: 0.5605 - val_acc: 0.8780\n",
      "\n",
      "Epoch 98/100\n",
      "2370/2370 [==============================]2370/2370 [==============================] - 0s 181us/step - loss: 0.4672 - acc: 0.8384 - val_loss: 0.7506 - val_acc: 0.8537\n",
      "\n",
      "Epoch 99/100\n",
      "2370/2370 [==============================]2370/2370 [==============================] - 1s 225us/step - loss: 0.4458 - acc: 0.8456 - val_loss: 0.4645 - val_acc: 0.9268\n",
      "\n",
      "Epoch 100/100\n",
      "2370/2370 [==============================]2370/2370 [==============================] - 0s 187us/step - loss: 0.4327 - acc: 0.8523 - val_loss: 0.4281 - val_acc: 0.9024\n",
      "\n"
     ]
    }
   ],
   "source": [
    "########## HYPER PARAMETERS\n",
    "batch_size = 128\n",
    "epochs = 100\n",
    "optimizer = tf.keras.optimizers.Adam()\n",
    "########## HYPER PARAMETERS\n",
    "\n",
    "########## MODEL ARCHITECTURE\n",
    "model = tf.keras.Sequential()\n",
    "model.add(tf.keras.layers.Dense(92, activation='relu', input_shape=(2048,)))\n",
    "model.add(tf.keras.layers.Dropout(0.3))\n",
    "model.add(tf.keras.layers.Dense(48, activation='relu'))\n",
    "model.add(tf.keras.layers.Dropout(0.3))\n",
    "#model.add(tf.keras.layers.Dense(16, activation='relu'))#WAS removed \n",
    "model.add(tf.keras.layers.Dense(Class, activation='softmax'))\n",
    "########## MODEL ARCHITECTURE\n",
    "\n",
    "# Print summary\n",
    "model.summary()\n",
    "\n",
    "# compile model for training\n",
    "model.compile(loss='categorical_crossentropy',\n",
    "              optimizer=optimizer,\n",
    "              metrics=['accuracy'])\n",
    "\n",
    "history = model.fit(X, y_train_one_hot,\n",
    "                    batch_size=batch_size,\n",
    "                    epochs=epochs,\n",
    "                    verbose=1,\n",
    "                    validation_data=(X_test, y_test_one_hot))"
   ]
  },
  {
   "cell_type": "code",
   "execution_count": 19,
   "metadata": {},
   "outputs": [
    {
     "data": {
      "text/plain": [
       "<matplotlib.legend.Legend at 0x7fd538075710>"
      ]
     },
     "execution_count": 19,
     "metadata": {},
     "output_type": "execute_result"
    },
    {
     "data": {
      "image/png": "[encoded data removed]",
      "text/plain": [
       "<Figure size 432x288 with 1 Axes>"
      ]
     },
     "metadata": {},
     "output_type": "display_data"
    }
   ],
   "source": [
    "import matplotlib.pyplot as plt\n",
    "plt.plot(history.history['val_acc'], label=\"Test Accuracy\")\n",
    "plt.plot(history.history['acc'], label=\"Training Accuracy\")\n",
    "plt.legend()"
   ]
  },
  {
   "cell_type": "code",
   "execution_count": 20,
   "metadata": {},
   "outputs": [
    {
     "data": {
      "text/plain": [
       "<matplotlib.legend.Legend at 0x7fd5396b39e8>"
      ]
     },
     "execution_count": 20,
     "metadata": {},
     "output_type": "execute_result"
    },
    {
     "data": {
      "image/png": "[encoded data removed]",
      "text/plain": [
       "<Figure size 432x288 with 1 Axes>"
      ]
     },
     "metadata": {},
     "output_type": "display_data"
    }
   ],
   "source": [
    "import matplotlib.pyplot as plt\n",
    "plt.plot(history.history['val_loss'], label=\"Test Error\")\n",
    "plt.plot(history.history['loss'], label=\"Train Error\")\n",
    "plt.legend()"
   ]
  },
  {
   "cell_type": "code",
   "execution_count": 98,
   "metadata": {},
   "outputs": [],
   "source": [
    "# load dataset\n",
    "dataframe = pandas.read_csv(\"DNN_Test_regout.csv\", header=None)\n",
    "dataset = dataframe.values\n",
    "X_ans = dataset[:,0:2048].astype(float)\n",
    "Y_ans = dataset[:,2048]"
   ]
  },
  {
   "cell_type": "code",
   "execution_count": 99,
   "metadata": {},
   "outputs": [],
   "source": [
    "predictions = model.predict(X_ans)"
   ]
  },
  {
   "cell_type": "code",
   "execution_count": 100,
   "metadata": {},
   "outputs": [
    {
     "name": "stdout",
     "output_type": "stream",
     "text": [
      "Predicted Labels\n",
      "6 2 0 6 6 1 0 7 1 1 1 1 7 5 5 5 0 7 5 2 7 7 7 1 5 4 3 3 3 1 5 5 1 6 3 1 5 5 7 6 2 2 5 7 2 1 1 6 2 6 2 2 4 7 5 5 2 7 7 1 2 7 "
     ]
    }
   ],
   "source": [
    "print(\"Predicted Labels\")\n",
    "for i in range (len(Y_ans)):\n",
    "    a=list(predictions[i])\n",
    "    print(a.index(max(a)),end=\" \")\n"
   ]
  },
  {
   "cell_type": "code",
   "execution_count": 101,
   "metadata": {},
   "outputs": [
    {
     "name": "stdout",
     "output_type": "stream",
     "text": [
      "Actual Labels\n",
      "0 0 0 0 0 0 0 1 1 1 1 1 2 2 2 2 2 2 2 2 2 2 3 3 3 3 3 3 3 4 4 4 4 4 4 4 4 4 4 5 5 5 5 5 5 6 6 6 6 6 6 6 6 7 7 7 7 7 7 7 7 7 "
     ]
    }
   ],
   "source": [
    "print(\"Actual Labels\")\n",
    "for i in range (len(Y_ans)):\n",
    "    print(int(Y_ans[i]),end=\" \")"
   ]
  },
  {
   "cell_type": "code",
   "execution_count": null,
   "metadata": {},
   "outputs": [],
   "source": []
  },
  {
   "cell_type": "code",
   "execution_count": null,
   "metadata": {},
   "outputs": [],
   "source": []
  }
 ],
 "metadata": {
  "kernelspec": {
   "display_name": "Python 3",
   "language": "python",
   "name": "python3"
  },
  "language_info": {
   "codemirror_mode": {
    "name": "ipython",
    "version": 3
   },
   "file_extension": ".py",
   "mimetype": "text/x-python",
   "name": "python",
   "nbconvert_exporter": "python",
   "pygments_lexer": "ipython3",
   "version": "3.6.7"
  }
 },
 "nbformat": 4,
 "nbformat_minor": 2
}
