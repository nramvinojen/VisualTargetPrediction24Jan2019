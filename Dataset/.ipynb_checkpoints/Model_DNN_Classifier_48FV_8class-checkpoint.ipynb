{
 "cells": [
  {
   "cell_type": "code",
   "execution_count": 1,
   "metadata": {
    "scrolled": true
   },
   "outputs": [
    {
     "name": "stderr",
     "output_type": "stream",
     "text": [
      "/usr/local/lib/python3.6/dist-packages/h5py/__init__.py:36: FutureWarning: Conversion of the second argument of issubdtype from `float` to `np.floating` is deprecated. In future, it will be treated as `np.float64 == np.dtype(float).type`.\n",
      "  from ._conv import register_converters as _register_converters\n",
      "Using TensorFlow backend.\n"
     ]
    }
   ],
   "source": [
    "import numpy as np\n",
    "import pandas\n",
    "import tensorflow as tf\n",
    "from keras.models import Sequential\n",
    "from keras.layers import Dense\n",
    "from keras.wrappers.scikit_learn import KerasClassifier\n",
    "from keras.utils import np_utils\n",
    "from sklearn.model_selection import cross_val_score\n",
    "from sklearn.model_selection import KFold\n",
    "from sklearn.preprocessing import LabelEncoder\n",
    "from sklearn.pipeline import Pipeline\n",
    "from keras.layers.normalization import BatchNormalization\n",
    "import matplotlib.pyplot as plt"
   ]
  },
  {
   "cell_type": "code",
   "execution_count": 2,
   "metadata": {
    "scrolled": true
   },
   "outputs": [],
   "source": [
    "FilePath = \"/home/nramvinojen/Programs/Workbench/24Jan2019/\"\n",
    "ext = \".jpg\"\n",
    "\n",
    "RunFolder = \"28Jan2019\"\n",
    "FV_count = 48"
   ]
  },
  {
   "cell_type": "code",
   "execution_count": 3,
   "metadata": {
    "scrolled": true
   },
   "outputs": [],
   "source": [
    "# If GPU is available: \n",
    "config = tf.ConfigProto()\n",
    "config.log_device_placement = True\n",
    "config.allow_soft_placement = True\n",
    "config.gpu_options.allocator_type = 'BFC'\n",
    "\n",
    "# Limit the maximum memory used\n",
    "config.gpu_options.per_process_gpu_memory_fraction = 0.1\n",
    "\n",
    "# set session config\n",
    "tf.keras.backend.set_session(tf.Session(config=config))"
   ]
  },
  {
   "cell_type": "code",
   "execution_count": 4,
   "metadata": {
    "scrolled": true
   },
   "outputs": [],
   "source": [
    "# fix random seed for reproducibility\n",
    "seed = 7\n",
    "np.random.seed(seed)\n",
    "Class = 8"
   ]
  },
  {
   "cell_type": "code",
   "execution_count": 5,
   "metadata": {
    "scrolled": true
   },
   "outputs": [],
   "source": [
    "# load dataset\n",
    "dataframe = pandas.read_csv(FilePath + \"Dataset/Classifier/NN/TR_2370Img_ResnetFV48_8Class.csv\", header=None)\n",
    "dataset = dataframe.values\n",
    "X = dataset[:,0:48].astype(float)\n",
    "Y = dataset[:,48].astype(int)"
   ]
  },
  {
   "cell_type": "code",
   "execution_count": 6,
   "metadata": {
    "scrolled": true
   },
   "outputs": [
    {
     "data": {
      "text/plain": [
       "(2370, 48)"
      ]
     },
     "execution_count": 6,
     "metadata": {},
     "output_type": "execute_result"
    }
   ],
   "source": [
    "# encode class values as integers\n",
    "encoder = LabelEncoder()\n",
    "encoder.fit(Y)\n",
    "encoded_Y = encoder.transform(Y)\n",
    "y_train_one_hot = tf.keras.utils.to_categorical(Y, Class)\n",
    "X.shape"
   ]
  },
  {
   "cell_type": "code",
   "execution_count": 7,
   "metadata": {
    "scrolled": true
   },
   "outputs": [],
   "source": [
    "# load dataset\n",
    "dataframe = pandas.read_csv(FilePath + \"Dataset/Classifier/NN/Test_41Img_ResnetFV48_8Class.csv\", header=None)\n",
    "dataset = dataframe.values\n",
    "X_test = dataset[:,0:48].astype(float)\n",
    "Y_test = dataset[:,48].astype(int)"
   ]
  },
  {
   "cell_type": "code",
   "execution_count": 8,
   "metadata": {
    "scrolled": true
   },
   "outputs": [
    {
     "data": {
      "text/plain": [
       "(41, 48)"
      ]
     },
     "execution_count": 8,
     "metadata": {},
     "output_type": "execute_result"
    }
   ],
   "source": [
    "# encode class values as integers\n",
    "encoder = LabelEncoder()\n",
    "encoder.fit(Y_test)\n",
    "y_test_one_hot = tf.keras.utils.to_categorical(Y_test, Class)\n",
    "X_test.shape"
   ]
  },
  {
   "cell_type": "code",
   "execution_count": 9,
   "metadata": {
    "scrolled": true
   },
   "outputs": [
    {
     "data": {
      "text/plain": [
       "(array([ 31., 289., 490., 658., 470., 257., 105.,  51.,  16.,   3.]),\n",
       " array([0.15865373, 0.76089947, 1.3631452 , 1.96539093, 2.56763666,\n",
       "        3.16988239, 3.77212813, 4.37437386, 4.97661959, 5.57886532,\n",
       "        6.18111105]),\n",
       " <a list of 10 Patch objects>)"
      ]
     },
     "execution_count": 9,
     "metadata": {},
     "output_type": "execute_result"
    },
    {
     "data": {
      "image/png": "[encoded data removed]",
      "text/plain": [
       "<Figure size 432x288 with 1 Axes>"
      ]
     },
     "metadata": {},
     "output_type": "display_data"
    }
   ],
   "source": [
    "plt.hist(np.mean(X, axis=1))"
   ]
  },
  {
   "cell_type": "code",
   "execution_count": 10,
   "metadata": {
    "scrolled": true
   },
   "outputs": [
    {
     "name": "stdout",
     "output_type": "stream",
     "text": [
      "_________________________________________________________________\n",
      "Layer (type)                 Output Shape              Param #   \n",
      "=================================================================\n",
      "dense_1 (Dense)              (None, 6)                 294       \n",
      "_________________________________________________________________\n",
      "dropout_1 (Dropout)          (None, 6)                 0         \n",
      "_________________________________________________________________\n",
      "dense_2 (Dense)              (None, 8)                 56        \n",
      "=================================================================\n",
      "Total params: 350\n",
      "Trainable params: 350\n",
      "Non-trainable params: 0\n",
      "_________________________________________________________________\n",
      "WARNING:tensorflow:From /usr/local/lib/python3.6/dist-packages/tensorflow/python/keras/_impl/keras/backend.py:3086: calling reduce_sum (from tensorflow.python.ops.math_ops) with keep_dims is deprecated and will be removed in a future version.\n",
      "Instructions for updating:\n",
      "keep_dims is deprecated, use keepdims instead\n",
      "WARNING:tensorflow:From /usr/local/lib/python3.6/dist-packages/tensorflow/python/keras/_impl/keras/backend.py:1557: calling reduce_mean (from tensorflow.python.ops.math_ops) with keep_dims is deprecated and will be removed in a future version.\n",
      "Instructions for updating:\n",
      "keep_dims is deprecated, use keepdims instead\n",
      "Train on 2370 samples, validate on 41 samples\n",
      "Epoch 1/70\n",
      "2370/2370 [==============================]2370/2370 [==============================] - 1s 401us/step - loss: 3.5935 - acc: 0.2055 - val_loss: 2.6231 - val_acc: 0.2439\n",
      "\n",
      "Epoch 2/70\n",
      "2370/2370 [==============================]2370/2370 [==============================] - 0s 141us/step - loss: 2.6303 - acc: 0.2646 - val_loss: 2.0793 - val_acc: 0.2927\n",
      "\n",
      "Epoch 3/70\n",
      "2370/2370 [==============================]2370/2370 [==============================] - 0s 125us/step - loss: 2.0139 - acc: 0.3034 - val_loss: 1.7249 - val_acc: 0.3415\n",
      "\n",
      "Epoch 4/70\n",
      "2370/2370 [==============================]2370/2370 [==============================] - 0s 77us/step - loss: 1.6589 - acc: 0.3156 - val_loss: 1.4979 - val_acc: 0.3415\n",
      "\n",
      "Epoch 5/70\n",
      "2370/2370 [==============================]2370/2370 [==============================] - 0s 46us/step - loss: 1.4317 - acc: 0.3392 - val_loss: 1.3444 - val_acc: 0.4390\n",
      "\n",
      "Epoch 6/70\n",
      "2370/2370 [==============================]2370/2370 [==============================] - 0s 43us/step - loss: 1.2655 - acc: 0.4046 - val_loss: 1.2381 - val_acc: 0.4878\n",
      "\n",
      "Epoch 7/70\n",
      "2370/2370 [==============================]2370/2370 [==============================] - 0s 42us/step - loss: 1.1733 - acc: 0.4418 - val_loss: 1.1480 - val_acc: 0.5122\n",
      "\n",
      "Epoch 8/70\n",
      "2370/2370 [==============================]2370/2370 [==============================] - 0s 41us/step - loss: 1.1094 - acc: 0.4738 - val_loss: 1.0617 - val_acc: 0.6341\n",
      "\n",
      "Epoch 9/70\n",
      "2370/2370 [==============================]2370/2370 [==============================] - 0s 136us/step - loss: 0.9295 - acc: 0.6962 - val_loss: 0.8489 - val_acc: 0.6829\n",
      "\n",
      "Epoch 10/70\n",
      "2370/2370 [==============================]2370/2370 [==============================] - 0s 152us/step - loss: 0.7893 - acc: 0.7354 - val_loss: 0.7713 - val_acc: 0.7317\n",
      "\n",
      "Epoch 11/70\n",
      "2370/2370 [==============================]2370/2370 [==============================] - 0s 129us/step - loss: 0.7240 - acc: 0.7435 - val_loss: 0.7134 - val_acc: 0.7317\n",
      "\n",
      "Epoch 12/70\n",
      "2370/2370 [==============================]2370/2370 [==============================] - 0s 121us/step - loss: 0.6730 - acc: 0.7658 - val_loss: 0.6648 - val_acc: 0.7561\n",
      "\n",
      "Epoch 13/70\n",
      "2370/2370 [==============================]2370/2370 [==============================] - 0s 48us/step - loss: 0.6272 - acc: 0.7823 - val_loss: 0.6191 - val_acc: 0.7805\n",
      "\n",
      "Epoch 14/70\n",
      "2370/2370 [==============================]2370/2370 [==============================] - 0s 41us/step - loss: 0.5721 - acc: 0.8397 - val_loss: 0.5751 - val_acc: 0.8537\n",
      "\n",
      "Epoch 15/70\n",
      "2370/2370 [==============================]2370/2370 [==============================] - 0s 42us/step - loss: 0.5498 - acc: 0.8346 - val_loss: 0.5395 - val_acc: 0.8780\n",
      "\n",
      "Epoch 16/70\n",
      "2370/2370 [==============================]2370/2370 [==============================] - 0s 41us/step - loss: 0.4984 - acc: 0.8511 - val_loss: 0.5169 - val_acc: 0.8780\n",
      "\n",
      "Epoch 17/70\n",
      "2370/2370 [==============================]2370/2370 [==============================] - 0s 48us/step - loss: 0.5030 - acc: 0.8397 - val_loss: 0.4964 - val_acc: 0.8780\n",
      "\n",
      "Epoch 18/70\n",
      "2370/2370 [==============================]2370/2370 [==============================] - 0s 156us/step - loss: 0.4877 - acc: 0.8405 - val_loss: 0.4827 - val_acc: 0.8780\n",
      "\n",
      "Epoch 19/70\n",
      "2370/2370 [==============================]2370/2370 [==============================] - 0s 139us/step - loss: 0.4512 - acc: 0.8544 - val_loss: 0.4744 - val_acc: 0.8780\n",
      "\n",
      "Epoch 20/70\n",
      "2370/2370 [==============================]2370/2370 [==============================] - 0s 134us/step - loss: 0.4730 - acc: 0.8435 - val_loss: 0.4682 - val_acc: 0.8780\n",
      "\n",
      "Epoch 21/70\n",
      "2370/2370 [==============================]2370/2370 [==============================] - 0s 115us/step - loss: 0.4360 - acc: 0.8646 - val_loss: 0.4662 - val_acc: 0.8780\n",
      "\n",
      "Epoch 22/70\n",
      "2370/2370 [==============================]2370/2370 [==============================] - 0s 42us/step - loss: 0.4479 - acc: 0.8536 - val_loss: 0.4671 - val_acc: 0.8780\n",
      "\n",
      "Epoch 23/70\n",
      "2370/2370 [==============================]2370/2370 [==============================] - 0s 42us/step - loss: 0.4226 - acc: 0.8671 - val_loss: 0.4646 - val_acc: 0.9268\n",
      "\n",
      "Epoch 24/70\n",
      "2370/2370 [==============================]2370/2370 [==============================] - 0s 42us/step - loss: 0.4119 - acc: 0.8700 - val_loss: 0.4648 - val_acc: 0.9268\n",
      "\n",
      "Epoch 25/70\n",
      "2370/2370 [==============================]2370/2370 [==============================] - 0s 43us/step - loss: 0.4107 - acc: 0.8679 - val_loss: 0.4649 - val_acc: 0.9024\n",
      "\n",
      "Epoch 26/70\n",
      "2370/2370 [==============================]2370/2370 [==============================] - 0s 40us/step - loss: 0.3900 - acc: 0.8722 - val_loss: 0.4667 - val_acc: 0.9024\n",
      "\n",
      "Epoch 27/70\n",
      "2370/2370 [==============================]2370/2370 [==============================] - 0s 145us/step - loss: 0.3682 - acc: 0.8785 - val_loss: 0.4685 - val_acc: 0.9024\n",
      "\n",
      "Epoch 28/70\n",
      "2370/2370 [==============================]2370/2370 [==============================] - 0s 146us/step - loss: 0.3909 - acc: 0.8654 - val_loss: 0.4779 - val_acc: 0.9024\n",
      "\n",
      "Epoch 29/70\n",
      "2370/2370 [==============================]2370/2370 [==============================] - 0s 141us/step - loss: 0.3545 - acc: 0.8806 - val_loss: 0.4829 - val_acc: 0.8780\n",
      "\n",
      "Epoch 30/70\n",
      "2370/2370 [==============================]2370/2370 [==============================] - 0s 122us/step - loss: 0.3661 - acc: 0.8743 - val_loss: 0.4809 - val_acc: 0.8780\n",
      "\n",
      "Epoch 31/70\n",
      "2370/2370 [==============================]2370/2370 [==============================] - 0s 58us/step - loss: 0.3598 - acc: 0.8768 - val_loss: 0.4848 - val_acc: 0.9024\n",
      "\n",
      "Epoch 32/70\n",
      "2370/2370 [==============================]2370/2370 [==============================] - 0s 42us/step - loss: 0.3492 - acc: 0.8776 - val_loss: 0.4832 - val_acc: 0.9024\n",
      "\n",
      "Epoch 33/70\n",
      "2370/2370 [==============================]2370/2370 [==============================] - 0s 43us/step - loss: 0.3533 - acc: 0.8726 - val_loss: 0.4843 - val_acc: 0.9024\n",
      "\n",
      "Epoch 34/70\n",
      "2370/2370 [==============================]2370/2370 [==============================] - 0s 45us/step - loss: 0.3526 - acc: 0.8700 - val_loss: 0.4861 - val_acc: 0.9024\n",
      "\n",
      "Epoch 35/70\n",
      "2370/2370 [==============================]2370/2370 [==============================] - 0s 58us/step - loss: 0.3436 - acc: 0.8747 - val_loss: 0.4906 - val_acc: 0.9024\n",
      "\n",
      "Epoch 36/70\n",
      "2370/2370 [==============================]2370/2370 [==============================] - 0s 163us/step - loss: 0.3313 - acc: 0.8713 - val_loss: 0.4916 - val_acc: 0.9024\n",
      "\n",
      "Epoch 37/70\n",
      "2370/2370 [==============================]2370/2370 [==============================] - 0s 145us/step - loss: 0.3490 - acc: 0.8709 - val_loss: 0.4939 - val_acc: 0.9024\n",
      "\n",
      "Epoch 38/70\n",
      "2370/2370 [==============================]2370/2370 [==============================] - 0s 131us/step - loss: 0.3187 - acc: 0.8797 - val_loss: 0.4929 - val_acc: 0.9024\n"
     ]
    },
    {
     "name": "stdout",
     "output_type": "stream",
     "text": [
      "\n",
      "Epoch 39/70\n",
      "2370/2370 [==============================]2370/2370 [==============================] - 0s 99us/step - loss: 0.3248 - acc: 0.8747 - val_loss: 0.4999 - val_acc: 0.9024\n",
      "\n",
      "Epoch 40/70\n",
      "2370/2370 [==============================]2370/2370 [==============================] - 0s 43us/step - loss: 0.3551 - acc: 0.8641 - val_loss: 0.5038 - val_acc: 0.9024\n",
      "\n",
      "Epoch 41/70\n",
      "2370/2370 [==============================]2370/2370 [==============================] - 0s 42us/step - loss: 0.3306 - acc: 0.8667 - val_loss: 0.5096 - val_acc: 0.9024\n",
      "\n",
      "Epoch 42/70\n",
      "2370/2370 [==============================]2370/2370 [==============================] - 0s 42us/step - loss: 0.3269 - acc: 0.8726 - val_loss: 0.5100 - val_acc: 0.9024\n",
      "\n",
      "Epoch 43/70\n",
      "2370/2370 [==============================]2370/2370 [==============================] - 0s 41us/step - loss: 0.3054 - acc: 0.8861 - val_loss: 0.5096 - val_acc: 0.9024\n",
      "\n",
      "Epoch 44/70\n",
      "2370/2370 [==============================]2370/2370 [==============================] - 0s 107us/step - loss: 0.3223 - acc: 0.8734 - val_loss: 0.5075 - val_acc: 0.9268\n",
      "\n",
      "Epoch 45/70\n",
      "2370/2370 [==============================]2370/2370 [==============================] - 0s 156us/step - loss: 0.3053 - acc: 0.8878 - val_loss: 0.5113 - val_acc: 0.9024\n",
      "\n",
      "Epoch 46/70\n",
      "2370/2370 [==============================]2370/2370 [==============================] - 0s 131us/step - loss: 0.3209 - acc: 0.8700 - val_loss: 0.5145 - val_acc: 0.9268\n",
      "\n",
      "Epoch 47/70\n",
      "2370/2370 [==============================]2370/2370 [==============================] - 0s 120us/step - loss: 0.3282 - acc: 0.8688 - val_loss: 0.5186 - val_acc: 0.9268\n",
      "\n",
      "Epoch 48/70\n",
      "2370/2370 [==============================]2370/2370 [==============================] - 0s 74us/step - loss: 0.3157 - acc: 0.8755 - val_loss: 0.5267 - val_acc: 0.9024\n",
      "\n",
      "Epoch 49/70\n",
      "2370/2370 [==============================]2370/2370 [==============================] - 0s 44us/step - loss: 0.2867 - acc: 0.8861 - val_loss: 0.5238 - val_acc: 0.9024\n",
      "\n",
      "Epoch 50/70\n",
      "2370/2370 [==============================]2370/2370 [==============================] - 0s 43us/step - loss: 0.2842 - acc: 0.8941 - val_loss: 0.5283 - val_acc: 0.9024\n",
      "\n",
      "Epoch 51/70\n",
      "2370/2370 [==============================]2370/2370 [==============================] - 0s 42us/step - loss: 0.3145 - acc: 0.8747 - val_loss: 0.5237 - val_acc: 0.9268\n",
      "\n",
      "Epoch 52/70\n",
      "2370/2370 [==============================]2370/2370 [==============================] - 0s 44us/step - loss: 0.3012 - acc: 0.8730 - val_loss: 0.5275 - val_acc: 0.9268\n",
      "\n",
      "Epoch 53/70\n",
      "2370/2370 [==============================]2370/2370 [==============================] - 0s 140us/step - loss: 0.2979 - acc: 0.8797 - val_loss: 0.5288 - val_acc: 0.9268\n",
      "\n",
      "Epoch 54/70\n",
      "2370/2370 [==============================]2370/2370 [==============================] - 0s 156us/step - loss: 0.3053 - acc: 0.8819 - val_loss: 0.5298 - val_acc: 0.9268\n",
      "\n",
      "Epoch 55/70\n",
      "2370/2370 [==============================]2370/2370 [==============================] - 0s 132us/step - loss: 0.2958 - acc: 0.8802 - val_loss: 0.5360 - val_acc: 0.9268\n",
      "\n",
      "Epoch 56/70\n",
      "2370/2370 [==============================]2370/2370 [==============================] - 0s 119us/step - loss: 0.2837 - acc: 0.8861 - val_loss: 0.5362 - val_acc: 0.9268\n",
      "\n",
      "Epoch 57/70\n",
      "2370/2370 [==============================]2370/2370 [==============================] - 0s 44us/step - loss: 0.2922 - acc: 0.8878 - val_loss: 0.5395 - val_acc: 0.9268\n",
      "\n",
      "Epoch 58/70\n",
      "2370/2370 [==============================]2370/2370 [==============================] - 0s 43us/step - loss: 0.2995 - acc: 0.8819 - val_loss: 0.5480 - val_acc: 0.9268\n",
      "\n",
      "Epoch 59/70\n",
      "2370/2370 [==============================]2370/2370 [==============================] - 0s 43us/step - loss: 0.2928 - acc: 0.8785 - val_loss: 0.5489 - val_acc: 0.9268\n",
      "\n",
      "Epoch 60/70\n",
      "2370/2370 [==============================]2370/2370 [==============================] - 0s 42us/step - loss: 0.3182 - acc: 0.8730 - val_loss: 0.5520 - val_acc: 0.9268\n",
      "\n",
      "Epoch 61/70\n",
      "2370/2370 [==============================]2370/2370 [==============================] - 0s 47us/step - loss: 0.2875 - acc: 0.8810 - val_loss: 0.5618 - val_acc: 0.9268\n",
      "\n",
      "Epoch 62/70\n",
      "2370/2370 [==============================]2370/2370 [==============================] - 0s 167us/step - loss: 0.2712 - acc: 0.8857 - val_loss: 0.5661 - val_acc: 0.9268\n",
      "\n",
      "Epoch 63/70\n",
      "2370/2370 [==============================]2370/2370 [==============================] - 0s 151us/step - loss: 0.2858 - acc: 0.8827 - val_loss: 0.5719 - val_acc: 0.9268\n",
      "\n",
      "Epoch 64/70\n",
      "2370/2370 [==============================]2370/2370 [==============================] - 0s 131us/step - loss: 0.3125 - acc: 0.8717 - val_loss: 0.5672 - val_acc: 0.9268\n",
      "\n",
      "Epoch 65/70\n",
      "2370/2370 [==============================]2370/2370 [==============================] - 0s 101us/step - loss: 0.2877 - acc: 0.8823 - val_loss: 0.5718 - val_acc: 0.9268\n",
      "\n",
      "Epoch 66/70\n",
      "2370/2370 [==============================]2370/2370 [==============================] - 0s 50us/step - loss: 0.2855 - acc: 0.8806 - val_loss: 0.5738 - val_acc: 0.9268\n",
      "\n",
      "Epoch 67/70\n",
      "2370/2370 [==============================]2370/2370 [==============================] - 0s 43us/step - loss: 0.2638 - acc: 0.8954 - val_loss: 0.5776 - val_acc: 0.9268\n",
      "\n",
      "Epoch 68/70\n",
      "2370/2370 [==============================]2370/2370 [==============================] - 0s 42us/step - loss: 0.2921 - acc: 0.8785 - val_loss: 0.5856 - val_acc: 0.9268\n",
      "\n",
      "Epoch 69/70\n",
      "2370/2370 [==============================]2370/2370 [==============================] - 0s 42us/step - loss: 0.2818 - acc: 0.8848 - val_loss: 0.5853 - val_acc: 0.9268\n",
      "\n",
      "Epoch 70/70\n",
      "2370/2370 [==============================]2370/2370 [==============================] - 0s 112us/step - loss: 0.2809 - acc: 0.8886 - val_loss: 0.5937 - val_acc: 0.9024\n",
      "\n"
     ]
    }
   ],
   "source": [
    "########## HYPER PARAMETERS\n",
    "batch_size = 128\n",
    "epochs = 70\n",
    "optimizer = tf.keras.optimizers.Adam()\n",
    "########## HYPER PARAMETERS\n",
    "\n",
    "########## MODEL ARCHITECTURE\n",
    "model = tf.keras.Sequential()\n",
    "model.add(tf.keras.layers.Dense(6, activation='relu', input_shape=(48,)))\n",
    "model.add(tf.keras.layers.Dropout(0.2))\n",
    "#model.add(tf.keras.layers.Dense(30, activation='relu'))\n",
    "#model.add(tf.keras.layers.Dropout(0.3))\n",
    "\n",
    "model.add(tf.keras.layers.Dense(Class, activation='softmax'))\n",
    "########## MODEL ARCHITECTURE\n",
    "\n",
    "# Print summary\n",
    "model.summary()\n",
    "\n",
    "# compile model for training\n",
    "model.compile(loss='categorical_crossentropy',\n",
    "              optimizer=optimizer,\n",
    "              metrics=['accuracy'])\n",
    "\n",
    "history = model.fit(X, y_train_one_hot,\n",
    "                    batch_size=batch_size,\n",
    "                    epochs=epochs,\n",
    "                    verbose=1,\n",
    "                    validation_data=(X_test, y_test_one_hot))"
   ]
  },
  {
   "cell_type": "code",
   "execution_count": 11,
   "metadata": {
    "scrolled": true
   },
   "outputs": [
    {
     "data": {
      "text/plain": [
       "<matplotlib.legend.Legend at 0x7f64500587f0>"
      ]
     },
     "execution_count": 11,
     "metadata": {},
     "output_type": "execute_result"
    },
    {
     "data": {
      "image/png": "[encoded data removed]",
      "text/plain": [
       "<Figure size 432x288 with 1 Axes>"
      ]
     },
     "metadata": {},
     "output_type": "display_data"
    }
   ],
   "source": [
    "import matplotlib.pyplot as plt\n",
    "plt.plot(history.history['val_acc'], label=\"Test Accuracy\")\n",
    "plt.plot(history.history['acc'], label=\"Training Accuracy\")\n",
    "plt.legend()"
   ]
  },
  {
   "cell_type": "code",
   "execution_count": 12,
   "metadata": {
    "scrolled": true
   },
   "outputs": [
    {
     "data": {
      "text/plain": [
       "<matplotlib.legend.Legend at 0x7f643c790048>"
      ]
     },
     "execution_count": 12,
     "metadata": {},
     "output_type": "execute_result"
    },
    {
     "data": {
      "image/png": "[encoded data removed]",
      "text/plain": [
       "<Figure size 432x288 with 1 Axes>"
      ]
     },
     "metadata": {},
     "output_type": "display_data"
    }
   ],
   "source": [
    "import matplotlib.pyplot as plt\n",
    "plt.plot(history.history['val_loss'], label=\"Test Error\")\n",
    "plt.plot(history.history['loss'], label=\"Train Error\")\n",
    "plt.legend()"
   ]
  },
  {
   "cell_type": "code",
   "execution_count": 57,
   "metadata": {
    "scrolled": true
   },
   "outputs": [
    {
     "name": "stdout",
     "output_type": "stream",
     "text": [
      "Saved model to disk\n"
     ]
    }
   ],
   "source": [
    "import datetime\n",
    "now = datetime.datetime.now()\n",
    "TempName = str(now.day) +str(now.month)+ str(now.hour) + str(now.minute)\n",
    "\n",
    "# serialize model to JSON\n",
    "model_json = model.to_json()\n",
    "with open(FilePath + \"Dataset/ModelAndWeights/Classifier_DNN_48FV_8Class.json\", \"w\") as json_file:\n",
    "    json_file.write(model_json)\n",
    "# serialize weights to HDF5\n",
    "model.save_weights(FilePath + \"Dataset/ModelAndWeights/Classifier_DNN_48FV_8Class.h5\")\n",
    "print(\"Saved model to disk\")"
   ]
  },
  {
   "cell_type": "code",
   "execution_count": null,
   "metadata": {},
   "outputs": [],
   "source": []
  }
 ],
 "metadata": {
  "kernelspec": {
   "display_name": "Python 3",
   "language": "python",
   "name": "python3"
  },
  "language_info": {
   "codemirror_mode": {
    "name": "ipython",
    "version": 3
   },
   "file_extension": ".py",
   "mimetype": "text/x-python",
   "name": "python",
   "nbconvert_exporter": "python",
   "pygments_lexer": "ipython3",
   "version": "3.6.7"
  }
 },
 "nbformat": 4,
 "nbformat_minor": 2
}
