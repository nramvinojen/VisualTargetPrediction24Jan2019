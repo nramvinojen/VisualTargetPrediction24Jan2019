{
 "cells": [
  {
   "cell_type": "code",
   "execution_count": 1,
   "metadata": {},
   "outputs": [
    {
     "name": "stderr",
     "output_type": "stream",
     "text": [
      "/usr/local/lib/python3.6/dist-packages/h5py/__init__.py:36: FutureWarning: Conversion of the second argument of issubdtype from `float` to `np.floating` is deprecated. In future, it will be treated as `np.float64 == np.dtype(float).type`.\n",
      "  from ._conv import register_converters as _register_converters\n",
      "Using TensorFlow backend.\n"
     ]
    }
   ],
   "source": [
    "import numpy as np\n",
    "import pandas\n",
    "import tensorflow as tf\n",
    "from keras.models import Sequential\n",
    "from keras.layers import Dense\n",
    "from keras.wrappers.scikit_learn import KerasClassifier\n",
    "from keras.utils import np_utils\n",
    "from sklearn.model_selection import cross_val_score\n",
    "from sklearn.model_selection import KFold\n",
    "from sklearn.preprocessing import LabelEncoder\n",
    "from sklearn.pipeline import Pipeline\n",
    "from keras.layers.normalization import BatchNormalization\n",
    "import matplotlib.pyplot as plt"
   ]
  },
  {
   "cell_type": "code",
   "execution_count": 2,
   "metadata": {},
   "outputs": [],
   "source": [
    "FilePath = \"/home/nramvinojen/Programs/Workbench/24Jan2019/\"\n",
    "ext = \".jpg\"\n",
    "\n",
    "RunFolder = \"28Jan2019\"\n",
    "FV_count = 100"
   ]
  },
  {
   "cell_type": "code",
   "execution_count": 3,
   "metadata": {},
   "outputs": [],
   "source": [
    "# If GPU is available: \n",
    "config = tf.ConfigProto()\n",
    "config.log_device_placement = True\n",
    "config.allow_soft_placement = True\n",
    "config.gpu_options.allocator_type = 'BFC'\n",
    "\n",
    "# Limit the maximum memory used\n",
    "config.gpu_options.per_process_gpu_memory_fraction = 0.1\n",
    "\n",
    "# set session config\n",
    "tf.keras.backend.set_session(tf.Session(config=config))"
   ]
  },
  {
   "cell_type": "code",
   "execution_count": 4,
   "metadata": {},
   "outputs": [],
   "source": [
    "# fix random seed for reproducibility\n",
    "seed = 7\n",
    "np.random.seed(seed)\n",
    "Class = 8"
   ]
  },
  {
   "cell_type": "code",
   "execution_count": 5,
   "metadata": {},
   "outputs": [],
   "source": [
    "# load dataset\n",
    "dataframe = pandas.read_csv(FilePath + \"Dataset/Classifier/NN/TR_2370Img_ResnetFV100_8Class.csv\", header=None)\n",
    "dataset = dataframe.values\n",
    "X = dataset[:,0:100].astype(float)\n",
    "Y = dataset[:,100]"
   ]
  },
  {
   "cell_type": "code",
   "execution_count": 6,
   "metadata": {},
   "outputs": [
    {
     "data": {
      "text/plain": [
       "(2370, 100)"
      ]
     },
     "execution_count": 6,
     "metadata": {},
     "output_type": "execute_result"
    }
   ],
   "source": [
    "# encode class values as integers\n",
    "encoder = LabelEncoder()\n",
    "encoder.fit(Y)\n",
    "encoded_Y = encoder.transform(Y)\n",
    "y_train_one_hot = tf.keras.utils.to_categorical(Y, Class)\n",
    "X.shape"
   ]
  },
  {
   "cell_type": "code",
   "execution_count": 7,
   "metadata": {},
   "outputs": [],
   "source": [
    "# load dataset\n",
    "dataframe = pandas.read_csv(FilePath + \"Dataset/Classifier/NN/Test_41Img_ResnetFV100_8Class.csv\", header=None)\n",
    "dataset = dataframe.values\n",
    "X_test = dataset[:,0:100].astype(float)\n",
    "Y_test = dataset[:,100]"
   ]
  },
  {
   "cell_type": "code",
   "execution_count": 8,
   "metadata": {},
   "outputs": [
    {
     "data": {
      "text/plain": [
       "(41, 100)"
      ]
     },
     "execution_count": 8,
     "metadata": {},
     "output_type": "execute_result"
    }
   ],
   "source": [
    "# encode class values as integers\n",
    "encoder = LabelEncoder()\n",
    "encoder.fit(Y_test)\n",
    "encoded_Ytest = encoder.transform(Y)\n",
    "y_test_one_hot = tf.keras.utils.to_categorical(Y_test, Class)\n",
    "X_test.shape"
   ]
  },
  {
   "cell_type": "code",
   "execution_count": 10,
   "metadata": {},
   "outputs": [
    {
     "data": {
      "text/plain": [
       "(array([153., 591., 436., 475., 398., 213.,  64.,  32.,   6.,   2.]),\n",
       " array([0.26995159, 0.7600398 , 1.25012801, 1.74021623, 2.23030444,\n",
       "        2.72039265, 3.21048086, 3.70056908, 4.19065729, 4.6807455 ,\n",
       "        5.17083371]),\n",
       " <a list of 10 Patch objects>)"
      ]
     },
     "execution_count": 10,
     "metadata": {},
     "output_type": "execute_result"
    },
    {
     "data": {
      "image/png": "[encoded data removed]",
      "text/plain": [
       "<Figure size 432x288 with 1 Axes>"
      ]
     },
     "metadata": {},
     "output_type": "display_data"
    }
   ],
   "source": [
    "plt.hist(np.mean(X, axis=1))"
   ]
  },
  {
   "cell_type": "code",
   "execution_count": 12,
   "metadata": {
    "scrolled": false
   },
   "outputs": [
    {
     "name": "stdout",
     "output_type": "stream",
     "text": [
      "_________________________________________________________________\n",
      "Layer (type)                 Output Shape              Param #   \n",
      "=================================================================\n",
      "dense_3 (Dense)              (None, 6)                 606       \n",
      "_________________________________________________________________\n",
      "dropout_2 (Dropout)          (None, 6)                 0         \n",
      "_________________________________________________________________\n",
      "dense_4 (Dense)              (None, 8)                 56        \n",
      "=================================================================\n",
      "Total params: 662\n",
      "Trainable params: 662\n",
      "Non-trainable params: 0\n",
      "_________________________________________________________________\n",
      "Train on 2370 samples, validate on 41 samples\n",
      "Epoch 1/70\n",
      "2370/2370 [==============================]2370/2370 [==============================] - 1s 227us/step - loss: 3.6820 - acc: 0.1468 - val_loss: 3.0444 - val_acc: 0.1220\n",
      "\n",
      "Epoch 2/70\n",
      "2370/2370 [==============================]2370/2370 [==============================] - 0s 62us/step - loss: 2.3455 - acc: 0.2789 - val_loss: 2.2275 - val_acc: 0.2195\n",
      "\n",
      "Epoch 3/70\n",
      "2370/2370 [==============================]2370/2370 [==============================] - 1s 231us/step - loss: 1.8381 - acc: 0.3278 - val_loss: 1.8154 - val_acc: 0.2439\n",
      "\n",
      "Epoch 4/70\n",
      "2370/2370 [==============================]2370/2370 [==============================] - 0s 141us/step - loss: 1.6463 - acc: 0.3405 - val_loss: 1.6517 - val_acc: 0.2439\n",
      "\n",
      "Epoch 5/70\n",
      "2370/2370 [==============================]2370/2370 [==============================] - 0s 68us/step - loss: 1.5650 - acc: 0.3451 - val_loss: 1.5883 - val_acc: 0.2439\n",
      "\n",
      "Epoch 6/70\n",
      "2370/2370 [==============================]2370/2370 [==============================] - 0s 133us/step - loss: 1.4722 - acc: 0.3937 - val_loss: 1.5192 - val_acc: 0.3902\n",
      "\n",
      "Epoch 7/70\n",
      "2370/2370 [==============================]2370/2370 [==============================] - 0s 72us/step - loss: 1.4415 - acc: 0.4215 - val_loss: 1.4637 - val_acc: 0.4634\n",
      "\n",
      "Epoch 8/70\n",
      "2370/2370 [==============================]2370/2370 [==============================] - 0s 52us/step - loss: 1.3776 - acc: 0.4696 - val_loss: 1.3908 - val_acc: 0.5122\n",
      "\n",
      "Epoch 9/70\n",
      "2370/2370 [==============================]2370/2370 [==============================] - 0s 200us/step - loss: 1.2903 - acc: 0.5093 - val_loss: 1.3344 - val_acc: 0.5122\n",
      "\n",
      "Epoch 10/70\n",
      "2370/2370 [==============================]2370/2370 [==============================] - 0s 161us/step - loss: 1.2010 - acc: 0.5679 - val_loss: 1.3392 - val_acc: 0.5854\n",
      "\n",
      "Epoch 11/70\n",
      "2370/2370 [==============================]2370/2370 [==============================] - 0s 86us/step - loss: 1.0600 - acc: 0.6861 - val_loss: 1.2389 - val_acc: 0.7317\n",
      "\n",
      "Epoch 12/70\n",
      "2370/2370 [==============================]2370/2370 [==============================] - 0s 118us/step - loss: 0.9831 - acc: 0.7232 - val_loss: 1.1493 - val_acc: 0.7561\n",
      "\n",
      "Epoch 13/70\n",
      "2370/2370 [==============================]2370/2370 [==============================] - 0s 86us/step - loss: 0.8844 - acc: 0.7549 - val_loss: 1.1136 - val_acc: 0.7805\n",
      "\n",
      "Epoch 14/70\n",
      "2370/2370 [==============================]2370/2370 [==============================] - 0s 58us/step - loss: 0.8793 - acc: 0.7409 - val_loss: 1.0682 - val_acc: 0.7805\n",
      "\n",
      "Epoch 15/70\n",
      "2370/2370 [==============================]2370/2370 [==============================] - 0s 192us/step - loss: 0.8388 - acc: 0.7540 - val_loss: 1.0379 - val_acc: 0.7805\n",
      "\n",
      "Epoch 16/70\n",
      "2370/2370 [==============================]2370/2370 [==============================] - 0s 178us/step - loss: 0.8389 - acc: 0.7489 - val_loss: 1.0259 - val_acc: 0.7805\n",
      "\n",
      "Epoch 17/70\n",
      "2370/2370 [==============================]2370/2370 [==============================] - 0s 93us/step - loss: 0.7763 - acc: 0.7772 - val_loss: 1.0093 - val_acc: 0.8049\n",
      "\n",
      "Epoch 18/70\n",
      "2370/2370 [==============================]2370/2370 [==============================] - 0s 116us/step - loss: 0.7896 - acc: 0.7700 - val_loss: 0.9864 - val_acc: 0.8049\n",
      "\n",
      "Epoch 19/70\n",
      "2370/2370 [==============================]2370/2370 [==============================] - 0s 89us/step - loss: 0.7494 - acc: 0.7835 - val_loss: 0.9780 - val_acc: 0.8049\n",
      "\n",
      "Epoch 20/70\n",
      "2370/2370 [==============================]2370/2370 [==============================] - 0s 55us/step - loss: 0.7813 - acc: 0.7772 - val_loss: 0.9705 - val_acc: 0.8293\n",
      "\n",
      "Epoch 21/70\n",
      "2370/2370 [==============================]2370/2370 [==============================] - 0s 190us/step - loss: 0.7565 - acc: 0.7861 - val_loss: 0.9672 - val_acc: 0.8293\n",
      "\n",
      "Epoch 22/70\n",
      "2370/2370 [==============================]2370/2370 [==============================] - 0s 174us/step - loss: 0.7617 - acc: 0.7928 - val_loss: 0.9545 - val_acc: 0.8537\n",
      "\n",
      "Epoch 23/70\n",
      "2370/2370 [==============================]2370/2370 [==============================] - 0s 85us/step - loss: 0.7548 - acc: 0.7992 - val_loss: 0.9702 - val_acc: 0.8537\n",
      "\n",
      "Epoch 24/70\n",
      "2370/2370 [==============================]2370/2370 [==============================] - 0s 104us/step - loss: 0.7084 - acc: 0.8186 - val_loss: 0.9709 - val_acc: 0.8780\n",
      "\n",
      "Epoch 25/70\n",
      "2370/2370 [==============================]2370/2370 [==============================] - 0s 94us/step - loss: 0.7137 - acc: 0.8198 - val_loss: 0.9665 - val_acc: 0.8780\n",
      "\n",
      "Epoch 26/70\n",
      "2370/2370 [==============================]2370/2370 [==============================] - 0s 54us/step - loss: 0.7267 - acc: 0.7992 - val_loss: 0.9769 - val_acc: 0.8780\n",
      "\n",
      "Epoch 27/70\n",
      "2370/2370 [==============================]2370/2370 [==============================] - 0s 125us/step - loss: 0.6791 - acc: 0.8249 - val_loss: 0.9738 - val_acc: 0.8780\n",
      "\n",
      "Epoch 28/70\n",
      "2370/2370 [==============================]2370/2370 [==============================] - 0s 207us/step - loss: 0.6874 - acc: 0.8114 - val_loss: 0.9545 - val_acc: 0.8780\n",
      "\n",
      "Epoch 29/70\n",
      "2370/2370 [==============================]2370/2370 [==============================] - 0s 117us/step - loss: 0.6704 - acc: 0.8169 - val_loss: 0.9402 - val_acc: 0.8780\n",
      "\n",
      "Epoch 30/70\n",
      "2370/2370 [==============================]2370/2370 [==============================] - 0s 89us/step - loss: 0.6802 - acc: 0.8076 - val_loss: 0.9289 - val_acc: 0.8780\n",
      "\n",
      "Epoch 31/70\n",
      "2370/2370 [==============================]2370/2370 [==============================] - 0s 109us/step - loss: 0.6781 - acc: 0.8030 - val_loss: 0.9230 - val_acc: 0.8780\n",
      "\n",
      "Epoch 32/70\n",
      "2370/2370 [==============================]2370/2370 [==============================] - 0s 56us/step - loss: 0.6473 - acc: 0.8186 - val_loss: 0.9169 - val_acc: 0.8537\n",
      "\n",
      "Epoch 33/70\n",
      "2370/2370 [==============================]2370/2370 [==============================] - 0s 97us/step - loss: 0.6387 - acc: 0.8127 - val_loss: 0.9003 - val_acc: 0.8537\n",
      "\n",
      "Epoch 34/70\n",
      "2370/2370 [==============================]2370/2370 [==============================] - 1s 231us/step - loss: 0.6344 - acc: 0.8122 - val_loss: 0.8977 - val_acc: 0.8537\n",
      "\n",
      "Epoch 35/70\n",
      "2370/2370 [==============================]2370/2370 [==============================] - 0s 135us/step - loss: 0.6188 - acc: 0.8186 - val_loss: 0.8902 - val_acc: 0.8780\n",
      "\n",
      "Epoch 36/70\n",
      "2370/2370 [==============================]2370/2370 [==============================] - 0s 97us/step - loss: 0.6120 - acc: 0.8127 - val_loss: 0.8871 - val_acc: 0.8537\n",
      "\n",
      "Epoch 37/70\n",
      "2370/2370 [==============================]2370/2370 [==============================] - 0s 108us/step - loss: 0.6056 - acc: 0.8198 - val_loss: 0.8834 - val_acc: 0.8780\n",
      "\n",
      "Epoch 38/70\n",
      "2370/2370 [==============================]2370/2370 [==============================] - 0s 53us/step - loss: 0.6272 - acc: 0.8059 - val_loss: 0.8851 - val_acc: 0.8780\n",
      "\n",
      "Epoch 39/70\n",
      "2370/2370 [==============================]2370/2370 [==============================] - 0s 73us/step - loss: 0.6124 - acc: 0.8089 - val_loss: 0.8835 - val_acc: 0.8537\n",
      "\n",
      "Epoch 40/70\n",
      "2370/2370 [==============================]2370/2370 [==============================] - 0s 211us/step - loss: 0.5906 - acc: 0.8160 - val_loss: 0.8797 - val_acc: 0.8537\n",
      "\n",
      "Epoch 41/70\n",
      "2370/2370 [==============================]2370/2370 [==============================] - 0s 153us/step - loss: 0.5812 - acc: 0.8160 - val_loss: 0.8833 - val_acc: 0.8537\n",
      "\n",
      "Epoch 42/70\n",
      "2370/2370 [==============================]2370/2370 [==============================] - 0s 63us/step - loss: 0.5842 - acc: 0.8190 - val_loss: 0.8728 - val_acc: 0.8537\n",
      "\n",
      "Epoch 43/70\n",
      "2370/2370 [==============================]2370/2370 [==============================] - 0s 125us/step - loss: 0.6145 - acc: 0.8013 - val_loss: 0.8739 - val_acc: 0.8537\n",
      "\n",
      "Epoch 44/70\n",
      "2370/2370 [==============================]2370/2370 [==============================] - 0s 75us/step - loss: 0.6082 - acc: 0.8038 - val_loss: 0.8662 - val_acc: 0.8537\n",
      "\n",
      "Epoch 45/70\n",
      "2370/2370 [==============================]2370/2370 [==============================] - 0s 57us/step - loss: 0.5925 - acc: 0.8080 - val_loss: 0.8669 - val_acc: 0.8537\n",
      "\n",
      "Epoch 46/70\n",
      "2370/2370 [==============================]2370/2370 [==============================] - 0s 184us/step - loss: 0.6014 - acc: 0.8059 - val_loss: 0.8730 - val_acc: 0.8537\n",
      "\n",
      "Epoch 47/70\n",
      "2370/2370 [==============================]2370/2370 [==============================] - 0s 174us/step - loss: 0.5700 - acc: 0.8165 - val_loss: 0.8718 - val_acc: 0.8537\n",
      "\n",
      "Epoch 48/70\n",
      "2370/2370 [==============================]2370/2370 [==============================] - 0s 86us/step - loss: 0.5710 - acc: 0.8173 - val_loss: 0.8617 - val_acc: 0.8537\n",
      "\n",
      "Epoch 49/70\n",
      "2370/2370 [==============================]2370/2370 [==============================] - 0s 100us/step - loss: 0.5729 - acc: 0.8186 - val_loss: 0.8632 - val_acc: 0.8537\n",
      "\n",
      "Epoch 50/70\n",
      "2370/2370 [==============================]2370/2370 [==============================] - 0s 101us/step - loss: 0.5405 - acc: 0.8346 - val_loss: 0.8696 - val_acc: 0.8537\n",
      "\n",
      "Epoch 51/70\n",
      "2370/2370 [==============================]2370/2370 [==============================] - 0s 61us/step - loss: 0.5495 - acc: 0.8278 - val_loss: 0.8698 - val_acc: 0.8537\n",
      "\n",
      "Epoch 52/70\n",
      "2370/2370 [==============================]2370/2370 [==============================] - 0s 164us/step - loss: 0.5550 - acc: 0.8219 - val_loss: 0.8664 - val_acc: 0.8537\n",
      "\n",
      "Epoch 53/70\n",
      "2370/2370 [==============================]2370/2370 [==============================] - 0s 188us/step - loss: 0.5416 - acc: 0.8287 - val_loss: 0.8638 - val_acc: 0.8537\n",
      "\n",
      "Epoch 54/70\n",
      "2370/2370 [==============================]2370/2370 [==============================] - 0s 102us/step - loss: 0.5480 - acc: 0.8236 - val_loss: 0.8586 - val_acc: 0.8537\n",
      "\n",
      "Epoch 55/70\n",
      "2370/2370 [==============================]2370/2370 [==============================] - 0s 107us/step - loss: 0.5489 - acc: 0.8241 - val_loss: 0.8596 - val_acc: 0.8537\n",
      "\n",
      "Epoch 56/70\n",
      "2370/2370 [==============================]2370/2370 [==============================] - 0s 99us/step - loss: 0.5297 - acc: 0.8346 - val_loss: 0.8699 - val_acc: 0.8537\n",
      "\n",
      "Epoch 57/70\n",
      "2370/2370 [==============================]2370/2370 [==============================] - 0s 55us/step - loss: 0.5333 - acc: 0.8308 - val_loss: 0.8633 - val_acc: 0.8537\n",
      "\n",
      "Epoch 58/70\n",
      "2370/2370 [==============================]2370/2370 [==============================] - 0s 136us/step - loss: 0.5137 - acc: 0.8392 - val_loss: 0.8678 - val_acc: 0.8537\n",
      "\n",
      "Epoch 59/70\n",
      "2370/2370 [==============================]2370/2370 [==============================] - 0s 204us/step - loss: 0.5211 - acc: 0.8338 - val_loss: 0.8757 - val_acc: 0.8537\n",
      "\n",
      "Epoch 60/70\n",
      "2370/2370 [==============================]2370/2370 [==============================] - 0s 109us/step - loss: 0.5392 - acc: 0.8232 - val_loss: 0.8766 - val_acc: 0.8537\n",
      "\n",
      "Epoch 61/70\n",
      "2370/2370 [==============================]2370/2370 [==============================] - 0s 81us/step - loss: 0.5289 - acc: 0.8257 - val_loss: 0.8750 - val_acc: 0.8537\n",
      "\n",
      "Epoch 62/70\n",
      "2370/2370 [==============================]2370/2370 [==============================] - 0s 119us/step - loss: 0.5088 - acc: 0.8346 - val_loss: 0.8898 - val_acc: 0.8537\n",
      "\n",
      "Epoch 63/70\n",
      "2370/2370 [==============================]2370/2370 [==============================] - 0s 62us/step - loss: 0.5246 - acc: 0.8338 - val_loss: 0.8870 - val_acc: 0.8537\n",
      "\n",
      "Epoch 64/70\n",
      "2370/2370 [==============================]2370/2370 [==============================] - 0s 125us/step - loss: 0.5254 - acc: 0.8316 - val_loss: 0.8952 - val_acc: 0.8537\n",
      "\n",
      "Epoch 65/70\n",
      "2370/2370 [==============================]2370/2370 [==============================] - 0s 205us/step - loss: 0.5455 - acc: 0.8152 - val_loss: 0.9052 - val_acc: 0.8537\n",
      "\n",
      "Epoch 66/70\n",
      "2370/2370 [==============================]2370/2370 [==============================] - 0s 117us/step - loss: 0.5252 - acc: 0.8257 - val_loss: 0.8977 - val_acc: 0.8537\n",
      "\n",
      "Epoch 67/70\n",
      "2370/2370 [==============================]2370/2370 [==============================] - 0s 54us/step - loss: 0.5082 - acc: 0.8338 - val_loss: 0.8884 - val_acc: 0.8537\n",
      "\n",
      "Epoch 68/70\n",
      "2370/2370 [==============================]2370/2370 [==============================] - 0s 130us/step - loss: 0.5183 - acc: 0.8291 - val_loss: 0.8790 - val_acc: 0.8537\n",
      "\n",
      "Epoch 69/70\n",
      "2370/2370 [==============================]2370/2370 [==============================] - 0s 71us/step - loss: 0.5031 - acc: 0.8380 - val_loss: 0.8879 - val_acc: 0.8537\n",
      "\n",
      "Epoch 70/70\n",
      "2370/2370 [==============================]2370/2370 [==============================] - 0s 61us/step - loss: 0.5203 - acc: 0.8295 - val_loss: 0.8848 - val_acc: 0.8537\n",
      "\n"
     ]
    }
   ],
   "source": [
    "########## HYPER PARAMETERS\n",
    "batch_size = 128\n",
    "epochs = 70\n",
    "optimizer = tf.keras.optimizers.Adam()\n",
    "########## HYPER PARAMETERS\n",
    "\n",
    "########## MODEL ARCHITECTURE\n",
    "model = tf.keras.Sequential()\n",
    "model.add(tf.keras.layers.Dense(6, activation='relu', input_shape=(100,)))\n",
    "model.add(tf.keras.layers.Dropout(0.2))\n",
    "#model.add(tf.keras.layers.Dense(30, activation='relu'))\n",
    "#model.add(tf.keras.layers.Dropout(0.3))\n",
    "\n",
    "model.add(tf.keras.layers.Dense(Class, activation='softmax'))\n",
    "########## MODEL ARCHITECTURE\n",
    "\n",
    "# Print summary\n",
    "model.summary()\n",
    "\n",
    "# compile model for training\n",
    "model.compile(loss='categorical_crossentropy',\n",
    "              optimizer=optimizer,\n",
    "              metrics=['accuracy'])\n",
    "\n",
    "history = model.fit(X, y_train_one_hot,\n",
    "                    batch_size=batch_size,\n",
    "                    epochs=epochs,\n",
    "                    verbose=1,\n",
    "                    validation_data=(X_test, y_test_one_hot))"
   ]
  },
  {
   "cell_type": "code",
   "execution_count": 13,
   "metadata": {},
   "outputs": [
    {
     "data": {
      "text/plain": [
       "<matplotlib.legend.Legend at 0x7f79eb5c0860>"
      ]
     },
     "execution_count": 13,
     "metadata": {},
     "output_type": "execute_result"
    },
    {
     "data": {
      "image/png": "[encoded data removed]",
      "text/plain": [
       "<Figure size 432x288 with 1 Axes>"
      ]
     },
     "metadata": {},
     "output_type": "display_data"
    }
   ],
   "source": [
    "import matplotlib.pyplot as plt\n",
    "plt.plot(history.history['val_acc'], label=\"Test Accuracy\")\n",
    "plt.plot(history.history['acc'], label=\"Training Accuracy\")\n",
    "plt.legend()"
   ]
  },
  {
   "cell_type": "code",
   "execution_count": 14,
   "metadata": {},
   "outputs": [
    {
     "data": {
      "text/plain": [
       "<matplotlib.legend.Legend at 0x7f79fc5f5208>"
      ]
     },
     "execution_count": 14,
     "metadata": {},
     "output_type": "execute_result"
    },
    {
     "data": {
      "image/png": "[encoded data removed]",
      "text/plain": [
       "<Figure size 432x288 with 1 Axes>"
      ]
     },
     "metadata": {},
     "output_type": "display_data"
    }
   ],
   "source": [
    "import matplotlib.pyplot as plt\n",
    "plt.plot(history.history['val_loss'], label=\"Test Error\")\n",
    "plt.plot(history.history['loss'], label=\"Train Error\")\n",
    "plt.legend()"
   ]
  },
  {
   "cell_type": "code",
   "execution_count": 15,
   "metadata": {},
   "outputs": [
    {
     "name": "stdout",
     "output_type": "stream",
     "text": [
      "Saved model to disk\n"
     ]
    }
   ],
   "source": [
    "import datetime\n",
    "now = datetime.datetime.now()\n",
    "TempName = str(now.day) +str(now.month)+ str(now.hour) + str(now.minute)\n",
    "\n",
    "# serialize model to JSON\n",
    "model_json = model.to_json()\n",
    "with open(FilePath + \"Dataset/ModelAndWeights/Classifier_DNN_100FV_8Class.json\", \"w\") as json_file:\n",
    "    json_file.write(model_json)\n",
    "# serialize weights to HDF5\n",
    "model.save_weights(FilePath + \"Dataset/ModelAndWeights/Classifier_DNN_100FV_8Class.h5\")\n",
    "print(\"Saved model to disk\")"
   ]
  },
  {
   "cell_type": "code",
   "execution_count": null,
   "metadata": {},
   "outputs": [],
   "source": []
  }
 ],
 "metadata": {
  "kernelspec": {
   "display_name": "Python 3",
   "language": "python",
   "name": "python3"
  },
  "language_info": {
   "codemirror_mode": {
    "name": "ipython",
    "version": 3
   },
   "file_extension": ".py",
   "mimetype": "text/x-python",
   "name": "python",
   "nbconvert_exporter": "python",
   "pygments_lexer": "ipython3",
   "version": "3.6.7"
  }
 },
 "nbformat": 4,
 "nbformat_minor": 2
}
